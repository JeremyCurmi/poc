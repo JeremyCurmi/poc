{
 "cells": [
  {
   "cell_type": "markdown",
   "metadata": {
    "pycharm": {
     "name": "#%% md\n"
    }
   },
   "source": [
    "This is a poc aimed to see the benefit and power of using **VAEX** for big datasets"
   ]
  },
  {
   "cell_type": "markdown",
   "metadata": {
    "pycharm": {
     "name": "#%% md\n"
    }
   },
   "source": [
    "# Imports"
   ]
  },
  {
   "cell_type": "code",
   "execution_count": 1,
   "metadata": {
    "pycharm": {
     "name": "#%%\n"
    }
   },
   "outputs": [],
   "source": [
    "import vaex\n",
    "import numpy as np\n",
    "import seaborn as sns\n",
    "import matplotlib.pyplot as plt"
   ]
  },
  {
   "cell_type": "code",
   "execution_count": 2,
   "metadata": {},
   "outputs": [],
   "source": [
    "data_path = '/Users/jeremy/data/yellow_taxi_big_data/yellow_taxi_2009_2015_f32.hdf5'"
   ]
  },
  {
   "cell_type": "code",
   "execution_count": 3,
   "metadata": {
    "pycharm": {
     "name": "#%%\n"
    }
   },
   "outputs": [],
   "source": [
    "from timeit import default_timer as timer\n",
    "def time_it(function):\n",
    "    def wrapper():\n",
    "        start_time = timer()\n",
    "        fun = function()\n",
    "        print('Execution time: {:.4f} seconds'.format(timer() - start_time))\n",
    "        return fun\n",
    "    return wrapper"
   ]
  },
  {
   "cell_type": "code",
   "execution_count": 4,
   "metadata": {
    "pycharm": {
     "name": "#%%\n"
    }
   },
   "outputs": [],
   "source": [
    "df = vaex.open(data_path)"
   ]
  },
  {
   "cell_type": "code",
   "execution_count": 5,
   "metadata": {
    "pycharm": {
     "name": "#%%\n"
    }
   },
   "outputs": [
    {
     "data": {
      "text/html": "<table>\n<thead>\n<tr><th>#                            </th><th>vendor_id  </th><th>pickup_datetime              </th><th>dropoff_datetime             </th><th style=\"text-align: right;\">  passenger_count</th><th>payment_type  </th><th style=\"text-align: right;\">  trip_distance</th><th style=\"text-align: right;\">  pickup_longitude</th><th style=\"text-align: right;\">  pickup_latitude</th><th style=\"text-align: right;\">  rate_code</th><th style=\"text-align: right;\">  store_and_fwd_flag</th><th style=\"text-align: right;\">  dropoff_longitude</th><th style=\"text-align: right;\">  dropoff_latitude</th><th style=\"text-align: right;\">  fare_amount</th><th style=\"text-align: right;\">  surcharge</th><th style=\"text-align: right;\">  mta_tax</th><th style=\"text-align: right;\">  tip_amount</th><th style=\"text-align: right;\">  tolls_amount</th><th style=\"text-align: right;\">  total_amount</th></tr>\n</thead>\n<tbody>\n<tr><td><i style='opacity: 0.6'>0</i></td><td>VTS        </td><td>2009-01-04 02:52:00.000000000</td><td>2009-01-04 03:02:00.000000000</td><td style=\"text-align: right;\">                1</td><td>CASH          </td><td style=\"text-align: right;\">           2.63</td><td style=\"text-align: right;\">          -73.992 </td><td style=\"text-align: right;\">          40.7216</td><td style=\"text-align: right;\">        nan</td><td style=\"text-align: right;\">                 nan</td><td style=\"text-align: right;\">           -73.9938</td><td style=\"text-align: right;\">           40.6959</td><td style=\"text-align: right;\">          8.9</td><td style=\"text-align: right;\">        0.5</td><td style=\"text-align: right;\">      nan</td><td style=\"text-align: right;\">        0   </td><td style=\"text-align: right;\">             0</td><td style=\"text-align: right;\">          9.4 </td></tr>\n<tr><td><i style='opacity: 0.6'>1</i></td><td>VTS        </td><td>2009-01-04 03:31:00.000000000</td><td>2009-01-04 03:38:00.000000000</td><td style=\"text-align: right;\">                3</td><td>Credit        </td><td style=\"text-align: right;\">           4.55</td><td style=\"text-align: right;\">          -73.9821</td><td style=\"text-align: right;\">          40.7363</td><td style=\"text-align: right;\">        nan</td><td style=\"text-align: right;\">                 nan</td><td style=\"text-align: right;\">           -73.9558</td><td style=\"text-align: right;\">           40.768 </td><td style=\"text-align: right;\">         12.1</td><td style=\"text-align: right;\">        0.5</td><td style=\"text-align: right;\">      nan</td><td style=\"text-align: right;\">        2   </td><td style=\"text-align: right;\">             0</td><td style=\"text-align: right;\">         14.6 </td></tr>\n<tr><td><i style='opacity: 0.6'>2</i></td><td>VTS        </td><td>2009-01-03 15:43:00.000000000</td><td>2009-01-03 15:57:00.000000000</td><td style=\"text-align: right;\">                5</td><td>Credit        </td><td style=\"text-align: right;\">          10.35</td><td style=\"text-align: right;\">          -74.0026</td><td style=\"text-align: right;\">          40.7397</td><td style=\"text-align: right;\">        nan</td><td style=\"text-align: right;\">                 nan</td><td style=\"text-align: right;\">           -73.87  </td><td style=\"text-align: right;\">           40.7702</td><td style=\"text-align: right;\">         23.7</td><td style=\"text-align: right;\">        0  </td><td style=\"text-align: right;\">      nan</td><td style=\"text-align: right;\">        4.74</td><td style=\"text-align: right;\">             0</td><td style=\"text-align: right;\">         28.44</td></tr>\n<tr><td><i style='opacity: 0.6'>3</i></td><td>DDS        </td><td>2009-01-01 20:52:58.000000000</td><td>2009-01-01 21:14:00.000000000</td><td style=\"text-align: right;\">                1</td><td>CREDIT        </td><td style=\"text-align: right;\">           5   </td><td style=\"text-align: right;\">          -73.9743</td><td style=\"text-align: right;\">          40.791 </td><td style=\"text-align: right;\">        nan</td><td style=\"text-align: right;\">                 nan</td><td style=\"text-align: right;\">           -73.9966</td><td style=\"text-align: right;\">           40.7319</td><td style=\"text-align: right;\">         14.9</td><td style=\"text-align: right;\">        0.5</td><td style=\"text-align: right;\">      nan</td><td style=\"text-align: right;\">        3.05</td><td style=\"text-align: right;\">             0</td><td style=\"text-align: right;\">         18.45</td></tr>\n<tr><td><i style='opacity: 0.6'>4</i></td><td>DDS        </td><td>2009-01-24 16:18:23.000000000</td><td>2009-01-24 16:24:56.000000000</td><td style=\"text-align: right;\">                1</td><td>CASH          </td><td style=\"text-align: right;\">           0.4 </td><td style=\"text-align: right;\">          -74.0016</td><td style=\"text-align: right;\">          40.7194</td><td style=\"text-align: right;\">        nan</td><td style=\"text-align: right;\">                 nan</td><td style=\"text-align: right;\">           -74.0084</td><td style=\"text-align: right;\">           40.7204</td><td style=\"text-align: right;\">          3.7</td><td style=\"text-align: right;\">        0  </td><td style=\"text-align: right;\">      nan</td><td style=\"text-align: right;\">        0   </td><td style=\"text-align: right;\">             0</td><td style=\"text-align: right;\">          3.7 </td></tr>\n<tr><td><i style='opacity: 0.6'>5</i></td><td>DDS        </td><td>2009-01-16 22:35:59.000000000</td><td>2009-01-16 22:43:35.000000000</td><td style=\"text-align: right;\">                2</td><td>CASH          </td><td style=\"text-align: right;\">           1.2 </td><td style=\"text-align: right;\">          -73.9898</td><td style=\"text-align: right;\">          40.735 </td><td style=\"text-align: right;\">        nan</td><td style=\"text-align: right;\">                 nan</td><td style=\"text-align: right;\">           -73.985 </td><td style=\"text-align: right;\">           40.7245</td><td style=\"text-align: right;\">          6.1</td><td style=\"text-align: right;\">        0.5</td><td style=\"text-align: right;\">      nan</td><td style=\"text-align: right;\">        0   </td><td style=\"text-align: right;\">             0</td><td style=\"text-align: right;\">          6.6 </td></tr>\n<tr><td><i style='opacity: 0.6'>6</i></td><td>DDS        </td><td>2009-01-21 08:55:57.000000000</td><td>2009-01-21 09:05:42.000000000</td><td style=\"text-align: right;\">                1</td><td>CREDIT        </td><td style=\"text-align: right;\">           0.4 </td><td style=\"text-align: right;\">          -73.984 </td><td style=\"text-align: right;\">          40.7435</td><td style=\"text-align: right;\">        nan</td><td style=\"text-align: right;\">                 nan</td><td style=\"text-align: right;\">           -73.9803</td><td style=\"text-align: right;\">           40.7489</td><td style=\"text-align: right;\">          5.7</td><td style=\"text-align: right;\">        0  </td><td style=\"text-align: right;\">      nan</td><td style=\"text-align: right;\">        1   </td><td style=\"text-align: right;\">             0</td><td style=\"text-align: right;\">          6.7 </td></tr>\n<tr><td><i style='opacity: 0.6'>7</i></td><td>VTS        </td><td>2009-01-04 04:31:00.000000000</td><td>2009-01-04 04:36:00.000000000</td><td style=\"text-align: right;\">                1</td><td>CASH          </td><td style=\"text-align: right;\">           1.72</td><td style=\"text-align: right;\">          -73.9926</td><td style=\"text-align: right;\">          40.7484</td><td style=\"text-align: right;\">        nan</td><td style=\"text-align: right;\">                 nan</td><td style=\"text-align: right;\">           -73.9956</td><td style=\"text-align: right;\">           40.7283</td><td style=\"text-align: right;\">          6.1</td><td style=\"text-align: right;\">        0.5</td><td style=\"text-align: right;\">      nan</td><td style=\"text-align: right;\">        0   </td><td style=\"text-align: right;\">             0</td><td style=\"text-align: right;\">          6.6 </td></tr>\n<tr><td><i style='opacity: 0.6'>8</i></td><td>CMT        </td><td>2009-01-05 16:29:02.000000000</td><td>2009-01-05 16:40:21.000000000</td><td style=\"text-align: right;\">                1</td><td>Credit        </td><td style=\"text-align: right;\">           1.6 </td><td style=\"text-align: right;\">          -73.9697</td><td style=\"text-align: right;\">          40.7492</td><td style=\"text-align: right;\">        nan</td><td style=\"text-align: right;\">                 nan</td><td style=\"text-align: right;\">           -73.9904</td><td style=\"text-align: right;\">           40.7511</td><td style=\"text-align: right;\">          8.7</td><td style=\"text-align: right;\">        0  </td><td style=\"text-align: right;\">      nan</td><td style=\"text-align: right;\">        1.3 </td><td style=\"text-align: right;\">             0</td><td style=\"text-align: right;\">         10   </td></tr>\n<tr><td><i style='opacity: 0.6'>9</i></td><td>CMT        </td><td>2009-01-05 18:53:13.000000000</td><td>2009-01-05 18:57:45.000000000</td><td style=\"text-align: right;\">                1</td><td>Cash          </td><td style=\"text-align: right;\">           0.7 </td><td style=\"text-align: right;\">          -73.9552</td><td style=\"text-align: right;\">          40.783 </td><td style=\"text-align: right;\">        nan</td><td style=\"text-align: right;\">                 nan</td><td style=\"text-align: right;\">           -73.9586</td><td style=\"text-align: right;\">           40.7748</td><td style=\"text-align: right;\">          5.9</td><td style=\"text-align: right;\">        0  </td><td style=\"text-align: right;\">      nan</td><td style=\"text-align: right;\">        0   </td><td style=\"text-align: right;\">             0</td><td style=\"text-align: right;\">          5.9 </td></tr>\n</tbody>\n</table>",
      "text/plain": "  #  vendor_id    pickup_datetime                dropoff_datetime                 passenger_count  payment_type      trip_distance    pickup_longitude    pickup_latitude    rate_code    store_and_fwd_flag    dropoff_longitude    dropoff_latitude    fare_amount    surcharge    mta_tax    tip_amount    tolls_amount    total_amount\n  0  VTS          2009-01-04 02:52:00.000000000  2009-01-04 03:02:00.000000000                  1  CASH                       2.63            -73.992             40.7216          nan                   nan             -73.9938             40.6959            8.9          0.5        nan          0                  0            9.4\n  1  VTS          2009-01-04 03:31:00.000000000  2009-01-04 03:38:00.000000000                  3  Credit                     4.55            -73.9821            40.7363          nan                   nan             -73.9558             40.768            12.1          0.5        nan          2                  0           14.6\n  2  VTS          2009-01-03 15:43:00.000000000  2009-01-03 15:57:00.000000000                  5  Credit                    10.35            -74.0026            40.7397          nan                   nan             -73.87               40.7702           23.7          0          nan          4.74               0           28.44\n  3  DDS          2009-01-01 20:52:58.000000000  2009-01-01 21:14:00.000000000                  1  CREDIT                     5               -73.9743            40.791           nan                   nan             -73.9966             40.7319           14.9          0.5        nan          3.05               0           18.45\n  4  DDS          2009-01-24 16:18:23.000000000  2009-01-24 16:24:56.000000000                  1  CASH                       0.4             -74.0016            40.7194          nan                   nan             -74.0084             40.7204            3.7          0          nan          0                  0            3.7\n  5  DDS          2009-01-16 22:35:59.000000000  2009-01-16 22:43:35.000000000                  2  CASH                       1.2             -73.9898            40.735           nan                   nan             -73.985              40.7245            6.1          0.5        nan          0                  0            6.6\n  6  DDS          2009-01-21 08:55:57.000000000  2009-01-21 09:05:42.000000000                  1  CREDIT                     0.4             -73.984             40.7435          nan                   nan             -73.9803             40.7489            5.7          0          nan          1                  0            6.7\n  7  VTS          2009-01-04 04:31:00.000000000  2009-01-04 04:36:00.000000000                  1  CASH                       1.72            -73.9926            40.7484          nan                   nan             -73.9956             40.7283            6.1          0.5        nan          0                  0            6.6\n  8  CMT          2009-01-05 16:29:02.000000000  2009-01-05 16:40:21.000000000                  1  Credit                     1.6             -73.9697            40.7492          nan                   nan             -73.9904             40.7511            8.7          0          nan          1.3                0           10\n  9  CMT          2009-01-05 18:53:13.000000000  2009-01-05 18:57:45.000000000                  1  Cash                       0.7             -73.9552            40.783           nan                   nan             -73.9586             40.7748            5.9          0          nan          0                  0            5.9"
     },
     "execution_count": 5,
     "metadata": {},
     "output_type": "execute_result"
    }
   ],
   "source": [
    "df.head()"
   ]
  },
  {
   "cell_type": "code",
   "execution_count": 6,
   "metadata": {
    "pycharm": {
     "name": "#%%\n"
    }
   },
   "outputs": [
    {
     "data": {
      "text/plain": "['vendor_id',\n 'pickup_datetime',\n 'dropoff_datetime',\n 'passenger_count',\n 'payment_type',\n 'trip_distance',\n 'pickup_longitude',\n 'pickup_latitude',\n 'rate_code',\n 'store_and_fwd_flag',\n 'dropoff_longitude',\n 'dropoff_latitude',\n 'fare_amount',\n 'surcharge',\n 'mta_tax',\n 'tip_amount',\n 'tolls_amount',\n 'total_amount']"
     },
     "execution_count": 6,
     "metadata": {},
     "output_type": "execute_result"
    }
   ],
   "source": [
    "df.column_names"
   ]
  },
  {
   "cell_type": "code",
   "execution_count": 7,
   "metadata": {
    "pycharm": {
     "name": "#%%\n"
    },
    "scrolled": true
   },
   "outputs": [
    {
     "name": "stdout",
     "output_type": "stream",
     "text": [
      "Execution time: 258.6392 seconds\n"
     ]
    },
    {
     "data": {
      "text/plain": "              vendor_id                pickup_datetime  \\\ndata_type  large_string                 datetime64[ns]   \ncount        1173057927                     1173057927   \nNA                    0                              0   \nmean                 --  1970-01-01T00:00:01.953533625   \nstd                  --            62223927139858768.0   \nmin                  --  2009-01-01T00:00:27.365015552   \nmax                  --  2016-01-01T00:00:49.632313344   \n\n                        dropoff_datetime     passenger_count  payment_type  \\\ndata_type                 datetime64[ns]               int64  large_string   \ncount                         1173057927          1173057927    1173057927   \nNA                                     0                   0             0   \nmean       1970-01-01T00:00:14.506598422  1.6844313554517245            --   \nstd                  62226550658142608.0            1.330321            --   \nmin        1899-12-31T23:59:43.370698752                   0            --   \nmax        2253-08-23T08:00:13.061652480                 255            --   \n\n               trip_distance    pickup_longitude    pickup_latitude  \\\ndata_type            float32             float32            float32   \ncount             1173057927          1173057927         1173057926   \nNA                         0                   0                  1   \nmean       5.390923660970469  -72.53224844702885  39.93453139351887   \nstd              7756.520806           12.750525           9.516751   \nmin              -40840124.0        -3509.015137       -3579.139404   \nmax              198623008.0         3570.224121        3577.135498   \n\n                   rate_code    store_and_fwd_flag   dropoff_longitude  \\\ndata_type            float32               float32             float32   \ncount             1002161871             638914438          1173043432   \nNA                 170896056             534143489               14495   \nmean       1.035820754150404  0.017168377090266976  -72.53741806425015   \nstd                 0.441996              0.129899           12.676822   \nmin                      0.0                   0.0        -3579.139404   \nmax                    252.0                   2.0         3460.426758   \n\n            dropoff_latitude         fare_amount           surcharge  \\\ndata_type            float32             float32             float32   \ncount             1173050240          1173057925          1173057925   \nNA                      7687                   2                   2   \nmean       39.93694872311042  11.217308155800861  0.3036385232379648   \nstd                 9.504872          633.505037            0.395407   \nmin             -3579.139404         -21474808.0               -79.0   \nmax               3577.13501          825998.625           999.98999   \n\n                      mta_tax          tip_amount         tolls_amount  \\\ndata_type             float32             float32              float32   \ncount              1032017356          1173057925           1173057925   \nNA                  141040571                   2                    2   \nmean       0.4963069205116384  1.1294571893021041  0.18678067517757974   \nstd                  0.068399          132.842337           886.718093   \nmin                      -3.0        -1677720.125          -21474836.0   \nmax               1311.219971          3950588.75          5510.069824   \n\n                 total_amount  \ndata_type             float32  \ncount              1173057925  \nNA                          2  \nmean       13.314765814199541  \nstd               1098.433815  \nmin               -21474830.0  \nmax                 3950611.5  ",
      "text/html": "<div>\n<style scoped>\n    .dataframe tbody tr th:only-of-type {\n        vertical-align: middle;\n    }\n\n    .dataframe tbody tr th {\n        vertical-align: top;\n    }\n\n    .dataframe thead th {\n        text-align: right;\n    }\n</style>\n<table border=\"1\" class=\"dataframe\">\n  <thead>\n    <tr style=\"text-align: right;\">\n      <th></th>\n      <th>vendor_id</th>\n      <th>pickup_datetime</th>\n      <th>dropoff_datetime</th>\n      <th>passenger_count</th>\n      <th>payment_type</th>\n      <th>trip_distance</th>\n      <th>pickup_longitude</th>\n      <th>pickup_latitude</th>\n      <th>rate_code</th>\n      <th>store_and_fwd_flag</th>\n      <th>dropoff_longitude</th>\n      <th>dropoff_latitude</th>\n      <th>fare_amount</th>\n      <th>surcharge</th>\n      <th>mta_tax</th>\n      <th>tip_amount</th>\n      <th>tolls_amount</th>\n      <th>total_amount</th>\n    </tr>\n  </thead>\n  <tbody>\n    <tr>\n      <th>data_type</th>\n      <td>large_string</td>\n      <td>datetime64[ns]</td>\n      <td>datetime64[ns]</td>\n      <td>int64</td>\n      <td>large_string</td>\n      <td>float32</td>\n      <td>float32</td>\n      <td>float32</td>\n      <td>float32</td>\n      <td>float32</td>\n      <td>float32</td>\n      <td>float32</td>\n      <td>float32</td>\n      <td>float32</td>\n      <td>float32</td>\n      <td>float32</td>\n      <td>float32</td>\n      <td>float32</td>\n    </tr>\n    <tr>\n      <th>count</th>\n      <td>1173057927</td>\n      <td>1173057927</td>\n      <td>1173057927</td>\n      <td>1173057927</td>\n      <td>1173057927</td>\n      <td>1173057927</td>\n      <td>1173057927</td>\n      <td>1173057926</td>\n      <td>1002161871</td>\n      <td>638914438</td>\n      <td>1173043432</td>\n      <td>1173050240</td>\n      <td>1173057925</td>\n      <td>1173057925</td>\n      <td>1032017356</td>\n      <td>1173057925</td>\n      <td>1173057925</td>\n      <td>1173057925</td>\n    </tr>\n    <tr>\n      <th>NA</th>\n      <td>0</td>\n      <td>0</td>\n      <td>0</td>\n      <td>0</td>\n      <td>0</td>\n      <td>0</td>\n      <td>0</td>\n      <td>1</td>\n      <td>170896056</td>\n      <td>534143489</td>\n      <td>14495</td>\n      <td>7687</td>\n      <td>2</td>\n      <td>2</td>\n      <td>141040571</td>\n      <td>2</td>\n      <td>2</td>\n      <td>2</td>\n    </tr>\n    <tr>\n      <th>mean</th>\n      <td>--</td>\n      <td>1970-01-01T00:00:01.953533625</td>\n      <td>1970-01-01T00:00:14.506598422</td>\n      <td>1.6844313554517245</td>\n      <td>--</td>\n      <td>5.390923660970469</td>\n      <td>-72.53224844702885</td>\n      <td>39.93453139351887</td>\n      <td>1.035820754150404</td>\n      <td>0.017168377090266976</td>\n      <td>-72.53741806425015</td>\n      <td>39.93694872311042</td>\n      <td>11.217308155800861</td>\n      <td>0.3036385232379648</td>\n      <td>0.4963069205116384</td>\n      <td>1.1294571893021041</td>\n      <td>0.18678067517757974</td>\n      <td>13.314765814199541</td>\n    </tr>\n    <tr>\n      <th>std</th>\n      <td>--</td>\n      <td>62223927139858768.0</td>\n      <td>62226550658142608.0</td>\n      <td>1.330321</td>\n      <td>--</td>\n      <td>7756.520806</td>\n      <td>12.750525</td>\n      <td>9.516751</td>\n      <td>0.441996</td>\n      <td>0.129899</td>\n      <td>12.676822</td>\n      <td>9.504872</td>\n      <td>633.505037</td>\n      <td>0.395407</td>\n      <td>0.068399</td>\n      <td>132.842337</td>\n      <td>886.718093</td>\n      <td>1098.433815</td>\n    </tr>\n    <tr>\n      <th>min</th>\n      <td>--</td>\n      <td>2009-01-01T00:00:27.365015552</td>\n      <td>1899-12-31T23:59:43.370698752</td>\n      <td>0</td>\n      <td>--</td>\n      <td>-40840124.0</td>\n      <td>-3509.015137</td>\n      <td>-3579.139404</td>\n      <td>0.0</td>\n      <td>0.0</td>\n      <td>-3579.139404</td>\n      <td>-3579.139404</td>\n      <td>-21474808.0</td>\n      <td>-79.0</td>\n      <td>-3.0</td>\n      <td>-1677720.125</td>\n      <td>-21474836.0</td>\n      <td>-21474830.0</td>\n    </tr>\n    <tr>\n      <th>max</th>\n      <td>--</td>\n      <td>2016-01-01T00:00:49.632313344</td>\n      <td>2253-08-23T08:00:13.061652480</td>\n      <td>255</td>\n      <td>--</td>\n      <td>198623008.0</td>\n      <td>3570.224121</td>\n      <td>3577.135498</td>\n      <td>252.0</td>\n      <td>2.0</td>\n      <td>3460.426758</td>\n      <td>3577.13501</td>\n      <td>825998.625</td>\n      <td>999.98999</td>\n      <td>1311.219971</td>\n      <td>3950588.75</td>\n      <td>5510.069824</td>\n      <td>3950611.5</td>\n    </tr>\n  </tbody>\n</table>\n</div>"
     },
     "execution_count": 7,
     "metadata": {},
     "output_type": "execute_result"
    }
   ],
   "source": [
    "@time_it\n",
    "def describe():\n",
    "    return df.describe()\n",
    "\n",
    "describe()"
   ]
  },
  {
   "cell_type": "code",
   "execution_count": 8,
   "metadata": {
    "pycharm": {
     "name": "#%%\n"
    }
   },
   "outputs": [
    {
     "name": "stderr",
     "output_type": "stream",
     "text": [
      "/Users/jeremy/.virtualenvs/vaex_1000_gb_data/lib/python3.7/site-packages/ipykernel_launcher.py:6: DeprecationWarning: Call to deprecated function plot_widget: use df.widget.heatmap\n",
      "  \n"
     ]
    },
    {
     "data": {
      "text/plain": "Heatmap(children=[ToolsToolbar(interact_value=None, supports_normalize=False, template='<template>\\n  <v-toolb…",
      "application/vnd.jupyter.widget-view+json": {
       "version_major": 2,
       "version_minor": 0,
       "model_id": "f2ce749156d04ce48d2136d5ba6a6c1f"
      }
     },
     "metadata": {},
     "output_type": "display_data"
    }
   ],
   "source": [
    "df.plot_widget(df.pickup_longitude,\n",
    "               df.pickup_latitude,\n",
    "               shape = 512,\n",
    "               limits = 'minmax',\n",
    "               f='log1p',\n",
    "               colormap='plasma')"
   ]
  },
  {
   "cell_type": "code",
   "execution_count": 17,
   "metadata": {
    "pycharm": {
     "name": "#%%\n"
    }
   },
   "outputs": [],
   "source": [
    "# Feature Engineering\n",
    "\n",
    "df['trip_duration_min'] = (df.dropoff_datetime - df.pickup_datetime) / np.timedelta64(1, 'm')\n",
    "df['trip_speed_mph'] = df.trip_distance / ((df.dropoff_datetime - df.pickup_datetime) / np.timedelta64(1, 'h'))"
   ]
  },
  {
   "cell_type": "code",
   "execution_count": 18,
   "outputs": [],
   "source": [
    "long_min = -74.05\n",
    "long_max = -73.75\n",
    "lat_min = 40.58\n",
    "lat_max = 40.90\n",
    "\n",
    "# make a selection based on the boundaries\n",
    "df_filtered = df[(df.pickup_longitude > long_min) & (df.pickup_longitude < long_max) &\\\n",
    "                (df.pickup_latitude > lat_min) & (df.pickup_latitude < lat_max) &\\\n",
    "                (df.dropoff_longitude > long_min) & (df.dropoff_longitude < long_max) &\\\n",
    "                (df.dropoff_latitude > lat_min) & (df.dropoff_latitude < lat_max)]"
   ],
   "metadata": {
    "collapsed": false,
    "pycharm": {
     "name": "#%%\n"
    }
   }
  },
  {
   "cell_type": "code",
   "execution_count": 19,
   "metadata": {
    "pycharm": {
     "name": "#%%\n"
    }
   },
   "outputs": [
    {
     "name": "stdout",
     "output_type": "stream",
     "text": [
      "[########################################] 100.00% elapsed time  :    46.21s =  0.8m =  0.0h\n",
      " "
     ]
    },
    {
     "data": {
      "text/plain": "<Figure size 1152x288 with 1 Axes>",
      "image/png": "[encoded data removed]"
     },
     "metadata": {
      "needs_background": "light"
     },
     "output_type": "display_data"
    }
   ],
   "source": [
    "#Get number of unique trips with certain number of passengers\n",
    "num_passengers = df_filtered.passenger_count.value_counts(progress=True)\n",
    "\n",
    "# Plot the result\n",
    "plt.figure(figsize=(16, 4))\n",
    "sns.barplot(x=num_passengers.index, y=np.log10(num_passengers.values))\n",
    "plt.xlabel('Number of passengers')\n",
    "plt.ylabel('Number of trips [dex]')\n",
    "plt.xticks(rotation='45')\n",
    "plt.show()"
   ]
  },
  {
   "cell_type": "code",
   "execution_count": 20,
   "outputs": [],
   "source": [
    "# Filtered based on the number of passengers\n",
    "df_filtered = df_filtered[(df_filtered.passenger_count>0) & (df_filtered.passenger_count<7)]"
   ],
   "metadata": {
    "collapsed": false,
    "pycharm": {
     "name": "#%%\n"
    }
   }
  },
  {
   "cell_type": "code",
   "execution_count": 21,
   "outputs": [
    {
     "name": "stderr",
     "output_type": "stream",
     "text": [
      "/Users/jeremy/.virtualenvs/vaex_1000_gb_data/lib/python3.7/site-packages/vaex/viz/mpl.py:46: UserWarning: `plot1d` is deprecated and it will be removed in version 5.x. Please use `df.viz.histogram` instead.\n",
      "  warnings.warn('`plot1d` is deprecated and it will be removed in version 5.x. Please use `df.viz.histogram` instead.')\n"
     ]
    },
    {
     "name": "stdout",
     "output_type": "stream",
     "text": [
      "[########################################] 100.00% elapsed time  :     9.26s =  0.2m =  0.0h\n",
      " "
     ]
    },
    {
     "name": "stderr",
     "output_type": "stream",
     "text": [
      "/Users/jeremy/.virtualenvs/vaex_1000_gb_data/lib/python3.7/site-packages/vaex/viz/mpl.py:143: RuntimeWarning: divide by zero encountered in log10\n",
      "  fgrid = f(grid)\n"
     ]
    },
    {
     "data": {
      "text/plain": "<Figure size 576x288 with 1 Axes>",
      "image/png": "[encoded data removed]"
     },
     "metadata": {
      "needs_background": "light"
     },
     "output_type": "display_data"
    }
   ],
   "source": [
    "# Plot the distribution of distances.\n",
    "plt.figure(figsize=(8, 4))\n",
    "df_filtered.plot1d('trip_distance', limits=[0, 250], f='log10', shape=128, lw=3, progress=True)\n",
    "plt.xlabel('Trip distance [miles]')\n",
    "plt.ylabel('Number of trips [dex]')\n",
    "plt.show()"
   ],
   "metadata": {
    "collapsed": false,
    "pycharm": {
     "name": "#%%\n"
    }
   }
  },
  {
   "cell_type": "code",
   "execution_count": 22,
   "outputs": [
    {
     "name": "stdout",
     "output_type": "stream",
     "text": [
      "The largest distance in the data is 198623008 miles\n"
     ]
    }
   ],
   "source": [
    "# What is the largest distance?\n",
    "max_trip_distance = df_filtered.trip_distance.max().astype('int')\n",
    "\n",
    "print(f'The largest distance in the data is {max_trip_distance} miles')"
   ],
   "metadata": {
    "collapsed": false,
    "pycharm": {
     "name": "#%%\n"
    }
   }
  },
  {
   "cell_type": "code",
   "execution_count": 23,
   "outputs": [],
   "source": [
    "df_filtered = df_filtered[(df_filtered.trip_distance > 0) & (df_filtered.trip_distance < 100) ]"
   ],
   "metadata": {
    "collapsed": false,
    "pycharm": {
     "name": "#%%\n"
    }
   }
  },
  {
   "cell_type": "code",
   "execution_count": 24,
   "outputs": [
    {
     "name": "stderr",
     "output_type": "stream",
     "text": [
      "/Users/jeremy/.virtualenvs/vaex_1000_gb_data/lib/python3.7/site-packages/vaex/viz/mpl.py:46: UserWarning: `plot1d` is deprecated and it will be removed in version 5.x. Please use `df.viz.histogram` instead.\n",
      "  warnings.warn('`plot1d` is deprecated and it will be removed in version 5.x. Please use `df.viz.histogram` instead.')\n"
     ]
    },
    {
     "name": "stdout",
     "output_type": "stream",
     "text": [
      "[########################################] 100.00% elapsed time  :    32.96s =  0.5m =  0.0h\n",
      " "
     ]
    },
    {
     "data": {
      "text/plain": "<Figure size 576x288 with 1 Axes>",
      "image/png": "[encoded data removed]"
     },
     "metadata": {
      "needs_background": "light"
     },
     "output_type": "display_data"
    }
   ],
   "source": [
    "# Plot the distribution of trip durations\n",
    "plt.figure(figsize=(8, 4))\n",
    "df_filtered.plot1d('trip_duration_min', limits=[0, 600], f='log10', shape=64, lw=3, progress=True)\n",
    "plt.xlabel('Trip duration [minutes]')\n",
    "plt.ylabel('Number of trips [dex]')\n",
    "plt.show()"
   ],
   "metadata": {
    "collapsed": false,
    "pycharm": {
     "name": "#%%\n"
    }
   }
  },
  {
   "cell_type": "code",
   "execution_count": 24,
   "outputs": [],
   "source": [],
   "metadata": {
    "collapsed": false,
    "pycharm": {
     "name": "#%%\n"
    }
   }
  },
  {
   "cell_type": "code",
   "execution_count": null,
   "outputs": [],
   "source": [],
   "metadata": {
    "collapsed": false,
    "pycharm": {
     "name": "#%%\n"
    }
   }
  }
 ],
 "metadata": {
  "kernelspec": {
   "display_name": "Python 3 (ipykernel)",
   "language": "python",
   "name": "python3"
  },
  "language_info": {
   "codemirror_mode": {
    "name": "ipython",
    "version": 3
   },
   "file_extension": ".py",
   "mimetype": "text/x-python",
   "name": "python",
   "nbconvert_exporter": "python",
   "pygments_lexer": "ipython3",
   "version": "3.7.9"
  }
 },
 "nbformat": 4,
 "nbformat_minor": 1
}