{
 "cells": [
  {
   "cell_type": "markdown",
   "metadata": {
    "pycharm": {
     "name": "#%% md\n"
    }
   },
   "source": [
    "This is a poc aimed to see the benefit and power of using **VAEX** for big datasets"
   ]
  },
  {
   "cell_type": "markdown",
   "metadata": {
    "pycharm": {
     "name": "#%% md\n"
    }
   },
   "source": [
    "# Imports"
   ]
  },
  {
   "cell_type": "code",
   "execution_count": 58,
   "metadata": {
    "pycharm": {
     "name": "#%%\n"
    }
   },
   "outputs": [],
   "source": [
    "import vaex\n",
    "import numpy as np\n",
    "import seaborn as sns\n",
    "import matplotlib.pyplot as plt"
   ]
  },
  {
   "cell_type": "code",
   "execution_count": 53,
   "metadata": {},
   "outputs": [],
   "source": [
    "data_path = '/Users/jeremy/data/yellow_taxi_big_data/yellow_taxi_2009_2015_f32.hdf5'"
   ]
  },
  {
   "cell_type": "code",
   "execution_count": 54,
   "metadata": {
    "pycharm": {
     "name": "#%%\n"
    }
   },
   "outputs": [],
   "source": [
    "from timeit import default_timer as timer\n",
    "def time_it(function):\n",
    "    def wrapper():\n",
    "        start_time = timer()\n",
    "        fun = function()\n",
    "        print('Execution time: {:.4f} seconds'.format(timer() - start_time))\n",
    "        return fun\n",
    "    return wrapper"
   ]
  },
  {
   "cell_type": "code",
   "execution_count": 55,
   "metadata": {
    "pycharm": {
     "name": "#%%\n"
    }
   },
   "outputs": [],
   "source": [
    "df = vaex.open(data_path)"
   ]
  },
  {
   "cell_type": "code",
   "execution_count": 47,
   "metadata": {
    "pycharm": {
     "name": "#%%\n"
    }
   },
   "outputs": [
    {
     "data": {
      "text/html": [
       "<table>\n",
       "<thead>\n",
       "<tr><th>#                            </th><th>vendor_id  </th><th>pickup_datetime              </th><th>dropoff_datetime             </th><th style=\"text-align: right;\">  passenger_count</th><th>payment_type  </th><th style=\"text-align: right;\">  trip_distance</th><th style=\"text-align: right;\">  pickup_longitude</th><th style=\"text-align: right;\">  pickup_latitude</th><th style=\"text-align: right;\">  rate_code</th><th style=\"text-align: right;\">  store_and_fwd_flag</th><th style=\"text-align: right;\">  dropoff_longitude</th><th style=\"text-align: right;\">  dropoff_latitude</th><th style=\"text-align: right;\">  fare_amount</th><th style=\"text-align: right;\">  surcharge</th><th style=\"text-align: right;\">  mta_tax</th><th style=\"text-align: right;\">  tip_amount</th><th style=\"text-align: right;\">  tolls_amount</th><th style=\"text-align: right;\">  total_amount</th></tr>\n",
       "</thead>\n",
       "<tbody>\n",
       "<tr><td><i style='opacity: 0.6'>0</i></td><td>VTS        </td><td>2009-01-04 02:52:00.000000000</td><td>2009-01-04 03:02:00.000000000</td><td style=\"text-align: right;\">                1</td><td>CASH          </td><td style=\"text-align: right;\">           2.63</td><td style=\"text-align: right;\">          -73.992 </td><td style=\"text-align: right;\">          40.7216</td><td style=\"text-align: right;\">        nan</td><td style=\"text-align: right;\">                 nan</td><td style=\"text-align: right;\">           -73.9938</td><td style=\"text-align: right;\">           40.6959</td><td style=\"text-align: right;\">          8.9</td><td style=\"text-align: right;\">        0.5</td><td style=\"text-align: right;\">      nan</td><td style=\"text-align: right;\">        0   </td><td style=\"text-align: right;\">             0</td><td style=\"text-align: right;\">          9.4 </td></tr>\n",
       "<tr><td><i style='opacity: 0.6'>1</i></td><td>VTS        </td><td>2009-01-04 03:31:00.000000000</td><td>2009-01-04 03:38:00.000000000</td><td style=\"text-align: right;\">                3</td><td>Credit        </td><td style=\"text-align: right;\">           4.55</td><td style=\"text-align: right;\">          -73.9821</td><td style=\"text-align: right;\">          40.7363</td><td style=\"text-align: right;\">        nan</td><td style=\"text-align: right;\">                 nan</td><td style=\"text-align: right;\">           -73.9558</td><td style=\"text-align: right;\">           40.768 </td><td style=\"text-align: right;\">         12.1</td><td style=\"text-align: right;\">        0.5</td><td style=\"text-align: right;\">      nan</td><td style=\"text-align: right;\">        2   </td><td style=\"text-align: right;\">             0</td><td style=\"text-align: right;\">         14.6 </td></tr>\n",
       "<tr><td><i style='opacity: 0.6'>2</i></td><td>VTS        </td><td>2009-01-03 15:43:00.000000000</td><td>2009-01-03 15:57:00.000000000</td><td style=\"text-align: right;\">                5</td><td>Credit        </td><td style=\"text-align: right;\">          10.35</td><td style=\"text-align: right;\">          -74.0026</td><td style=\"text-align: right;\">          40.7397</td><td style=\"text-align: right;\">        nan</td><td style=\"text-align: right;\">                 nan</td><td style=\"text-align: right;\">           -73.87  </td><td style=\"text-align: right;\">           40.7702</td><td style=\"text-align: right;\">         23.7</td><td style=\"text-align: right;\">        0  </td><td style=\"text-align: right;\">      nan</td><td style=\"text-align: right;\">        4.74</td><td style=\"text-align: right;\">             0</td><td style=\"text-align: right;\">         28.44</td></tr>\n",
       "<tr><td><i style='opacity: 0.6'>3</i></td><td>DDS        </td><td>2009-01-01 20:52:58.000000000</td><td>2009-01-01 21:14:00.000000000</td><td style=\"text-align: right;\">                1</td><td>CREDIT        </td><td style=\"text-align: right;\">           5   </td><td style=\"text-align: right;\">          -73.9743</td><td style=\"text-align: right;\">          40.791 </td><td style=\"text-align: right;\">        nan</td><td style=\"text-align: right;\">                 nan</td><td style=\"text-align: right;\">           -73.9966</td><td style=\"text-align: right;\">           40.7319</td><td style=\"text-align: right;\">         14.9</td><td style=\"text-align: right;\">        0.5</td><td style=\"text-align: right;\">      nan</td><td style=\"text-align: right;\">        3.05</td><td style=\"text-align: right;\">             0</td><td style=\"text-align: right;\">         18.45</td></tr>\n",
       "<tr><td><i style='opacity: 0.6'>4</i></td><td>DDS        </td><td>2009-01-24 16:18:23.000000000</td><td>2009-01-24 16:24:56.000000000</td><td style=\"text-align: right;\">                1</td><td>CASH          </td><td style=\"text-align: right;\">           0.4 </td><td style=\"text-align: right;\">          -74.0016</td><td style=\"text-align: right;\">          40.7194</td><td style=\"text-align: right;\">        nan</td><td style=\"text-align: right;\">                 nan</td><td style=\"text-align: right;\">           -74.0084</td><td style=\"text-align: right;\">           40.7204</td><td style=\"text-align: right;\">          3.7</td><td style=\"text-align: right;\">        0  </td><td style=\"text-align: right;\">      nan</td><td style=\"text-align: right;\">        0   </td><td style=\"text-align: right;\">             0</td><td style=\"text-align: right;\">          3.7 </td></tr>\n",
       "<tr><td><i style='opacity: 0.6'>5</i></td><td>DDS        </td><td>2009-01-16 22:35:59.000000000</td><td>2009-01-16 22:43:35.000000000</td><td style=\"text-align: right;\">                2</td><td>CASH          </td><td style=\"text-align: right;\">           1.2 </td><td style=\"text-align: right;\">          -73.9898</td><td style=\"text-align: right;\">          40.735 </td><td style=\"text-align: right;\">        nan</td><td style=\"text-align: right;\">                 nan</td><td style=\"text-align: right;\">           -73.985 </td><td style=\"text-align: right;\">           40.7245</td><td style=\"text-align: right;\">          6.1</td><td style=\"text-align: right;\">        0.5</td><td style=\"text-align: right;\">      nan</td><td style=\"text-align: right;\">        0   </td><td style=\"text-align: right;\">             0</td><td style=\"text-align: right;\">          6.6 </td></tr>\n",
       "<tr><td><i style='opacity: 0.6'>6</i></td><td>DDS        </td><td>2009-01-21 08:55:57.000000000</td><td>2009-01-21 09:05:42.000000000</td><td style=\"text-align: right;\">                1</td><td>CREDIT        </td><td style=\"text-align: right;\">           0.4 </td><td style=\"text-align: right;\">          -73.984 </td><td style=\"text-align: right;\">          40.7435</td><td style=\"text-align: right;\">        nan</td><td style=\"text-align: right;\">                 nan</td><td style=\"text-align: right;\">           -73.9803</td><td style=\"text-align: right;\">           40.7489</td><td style=\"text-align: right;\">          5.7</td><td style=\"text-align: right;\">        0  </td><td style=\"text-align: right;\">      nan</td><td style=\"text-align: right;\">        1   </td><td style=\"text-align: right;\">             0</td><td style=\"text-align: right;\">          6.7 </td></tr>\n",
       "<tr><td><i style='opacity: 0.6'>7</i></td><td>VTS        </td><td>2009-01-04 04:31:00.000000000</td><td>2009-01-04 04:36:00.000000000</td><td style=\"text-align: right;\">                1</td><td>CASH          </td><td style=\"text-align: right;\">           1.72</td><td style=\"text-align: right;\">          -73.9926</td><td style=\"text-align: right;\">          40.7484</td><td style=\"text-align: right;\">        nan</td><td style=\"text-align: right;\">                 nan</td><td style=\"text-align: right;\">           -73.9956</td><td style=\"text-align: right;\">           40.7283</td><td style=\"text-align: right;\">          6.1</td><td style=\"text-align: right;\">        0.5</td><td style=\"text-align: right;\">      nan</td><td style=\"text-align: right;\">        0   </td><td style=\"text-align: right;\">             0</td><td style=\"text-align: right;\">          6.6 </td></tr>\n",
       "<tr><td><i style='opacity: 0.6'>8</i></td><td>CMT        </td><td>2009-01-05 16:29:02.000000000</td><td>2009-01-05 16:40:21.000000000</td><td style=\"text-align: right;\">                1</td><td>Credit        </td><td style=\"text-align: right;\">           1.6 </td><td style=\"text-align: right;\">          -73.9697</td><td style=\"text-align: right;\">          40.7492</td><td style=\"text-align: right;\">        nan</td><td style=\"text-align: right;\">                 nan</td><td style=\"text-align: right;\">           -73.9904</td><td style=\"text-align: right;\">           40.7511</td><td style=\"text-align: right;\">          8.7</td><td style=\"text-align: right;\">        0  </td><td style=\"text-align: right;\">      nan</td><td style=\"text-align: right;\">        1.3 </td><td style=\"text-align: right;\">             0</td><td style=\"text-align: right;\">         10   </td></tr>\n",
       "<tr><td><i style='opacity: 0.6'>9</i></td><td>CMT        </td><td>2009-01-05 18:53:13.000000000</td><td>2009-01-05 18:57:45.000000000</td><td style=\"text-align: right;\">                1</td><td>Cash          </td><td style=\"text-align: right;\">           0.7 </td><td style=\"text-align: right;\">          -73.9552</td><td style=\"text-align: right;\">          40.783 </td><td style=\"text-align: right;\">        nan</td><td style=\"text-align: right;\">                 nan</td><td style=\"text-align: right;\">           -73.9586</td><td style=\"text-align: right;\">           40.7748</td><td style=\"text-align: right;\">          5.9</td><td style=\"text-align: right;\">        0  </td><td style=\"text-align: right;\">      nan</td><td style=\"text-align: right;\">        0   </td><td style=\"text-align: right;\">             0</td><td style=\"text-align: right;\">          5.9 </td></tr>\n",
       "</tbody>\n",
       "</table>"
      ],
      "text/plain": [
       "  #  vendor_id    pickup_datetime                dropoff_datetime                 passenger_count  payment_type      trip_distance    pickup_longitude    pickup_latitude    rate_code    store_and_fwd_flag    dropoff_longitude    dropoff_latitude    fare_amount    surcharge    mta_tax    tip_amount    tolls_amount    total_amount\n",
       "  0  VTS          2009-01-04 02:52:00.000000000  2009-01-04 03:02:00.000000000                  1  CASH                       2.63            -73.992             40.7216          nan                   nan             -73.9938             40.6959            8.9          0.5        nan          0                  0            9.4\n",
       "  1  VTS          2009-01-04 03:31:00.000000000  2009-01-04 03:38:00.000000000                  3  Credit                     4.55            -73.9821            40.7363          nan                   nan             -73.9558             40.768            12.1          0.5        nan          2                  0           14.6\n",
       "  2  VTS          2009-01-03 15:43:00.000000000  2009-01-03 15:57:00.000000000                  5  Credit                    10.35            -74.0026            40.7397          nan                   nan             -73.87               40.7702           23.7          0          nan          4.74               0           28.44\n",
       "  3  DDS          2009-01-01 20:52:58.000000000  2009-01-01 21:14:00.000000000                  1  CREDIT                     5               -73.9743            40.791           nan                   nan             -73.9966             40.7319           14.9          0.5        nan          3.05               0           18.45\n",
       "  4  DDS          2009-01-24 16:18:23.000000000  2009-01-24 16:24:56.000000000                  1  CASH                       0.4             -74.0016            40.7194          nan                   nan             -74.0084             40.7204            3.7          0          nan          0                  0            3.7\n",
       "  5  DDS          2009-01-16 22:35:59.000000000  2009-01-16 22:43:35.000000000                  2  CASH                       1.2             -73.9898            40.735           nan                   nan             -73.985              40.7245            6.1          0.5        nan          0                  0            6.6\n",
       "  6  DDS          2009-01-21 08:55:57.000000000  2009-01-21 09:05:42.000000000                  1  CREDIT                     0.4             -73.984             40.7435          nan                   nan             -73.9803             40.7489            5.7          0          nan          1                  0            6.7\n",
       "  7  VTS          2009-01-04 04:31:00.000000000  2009-01-04 04:36:00.000000000                  1  CASH                       1.72            -73.9926            40.7484          nan                   nan             -73.9956             40.7283            6.1          0.5        nan          0                  0            6.6\n",
       "  8  CMT          2009-01-05 16:29:02.000000000  2009-01-05 16:40:21.000000000                  1  Credit                     1.6             -73.9697            40.7492          nan                   nan             -73.9904             40.7511            8.7          0          nan          1.3                0           10\n",
       "  9  CMT          2009-01-05 18:53:13.000000000  2009-01-05 18:57:45.000000000                  1  Cash                       0.7             -73.9552            40.783           nan                   nan             -73.9586             40.7748            5.9          0          nan          0                  0            5.9"
      ]
     },
     "execution_count": 47,
     "metadata": {},
     "output_type": "execute_result"
    }
   ],
   "source": [
    "df.head()"
   ]
  },
  {
   "cell_type": "code",
   "execution_count": 13,
   "metadata": {
    "pycharm": {
     "name": "#%%\n"
    }
   },
   "outputs": [
    {
     "data": {
      "text/plain": [
       "['vendor_id',\n",
       " 'pickup_datetime',\n",
       " 'dropoff_datetime',\n",
       " 'passenger_count',\n",
       " 'payment_type',\n",
       " 'trip_distance',\n",
       " 'pickup_longitude',\n",
       " 'pickup_latitude',\n",
       " 'rate_code',\n",
       " 'store_and_fwd_flag',\n",
       " 'dropoff_longitude',\n",
       " 'dropoff_latitude',\n",
       " 'fare_amount',\n",
       " 'surcharge',\n",
       " 'mta_tax',\n",
       " 'tip_amount',\n",
       " 'tolls_amount',\n",
       " 'total_amount']"
      ]
     },
     "execution_count": 13,
     "metadata": {},
     "output_type": "execute_result"
    }
   ],
   "source": [
    "df.column_names"
   ]
  },
  {
   "cell_type": "code",
   "execution_count": 39,
   "metadata": {
    "pycharm": {
     "name": "#%%\n"
    },
    "scrolled": true
   },
   "outputs": [
    {
     "name": "stdout",
     "output_type": "stream",
     "text": [
      "Execution time: 274.0315 seconds\n"
     ]
    },
    {
     "data": {
      "text/html": [
       "<div>\n",
       "<style scoped>\n",
       "    .dataframe tbody tr th:only-of-type {\n",
       "        vertical-align: middle;\n",
       "    }\n",
       "\n",
       "    .dataframe tbody tr th {\n",
       "        vertical-align: top;\n",
       "    }\n",
       "\n",
       "    .dataframe thead th {\n",
       "        text-align: right;\n",
       "    }\n",
       "</style>\n",
       "<table border=\"1\" class=\"dataframe\">\n",
       "  <thead>\n",
       "    <tr style=\"text-align: right;\">\n",
       "      <th></th>\n",
       "      <th>vendor_id</th>\n",
       "      <th>pickup_datetime</th>\n",
       "      <th>dropoff_datetime</th>\n",
       "      <th>passenger_count</th>\n",
       "      <th>payment_type</th>\n",
       "      <th>trip_distance</th>\n",
       "      <th>pickup_longitude</th>\n",
       "      <th>pickup_latitude</th>\n",
       "      <th>rate_code</th>\n",
       "      <th>store_and_fwd_flag</th>\n",
       "      <th>dropoff_longitude</th>\n",
       "      <th>dropoff_latitude</th>\n",
       "      <th>fare_amount</th>\n",
       "      <th>surcharge</th>\n",
       "      <th>mta_tax</th>\n",
       "      <th>tip_amount</th>\n",
       "      <th>tolls_amount</th>\n",
       "      <th>total_amount</th>\n",
       "    </tr>\n",
       "  </thead>\n",
       "  <tbody>\n",
       "    <tr>\n",
       "      <th>data_type</th>\n",
       "      <td>large_string</td>\n",
       "      <td>datetime64[ns]</td>\n",
       "      <td>datetime64[ns]</td>\n",
       "      <td>int64</td>\n",
       "      <td>large_string</td>\n",
       "      <td>float32</td>\n",
       "      <td>float32</td>\n",
       "      <td>float32</td>\n",
       "      <td>float32</td>\n",
       "      <td>float32</td>\n",
       "      <td>float32</td>\n",
       "      <td>float32</td>\n",
       "      <td>float32</td>\n",
       "      <td>float32</td>\n",
       "      <td>float32</td>\n",
       "      <td>float32</td>\n",
       "      <td>float32</td>\n",
       "      <td>float32</td>\n",
       "    </tr>\n",
       "    <tr>\n",
       "      <th>count</th>\n",
       "      <td>1173057927</td>\n",
       "      <td>1173057927</td>\n",
       "      <td>1173057927</td>\n",
       "      <td>1173057927</td>\n",
       "      <td>1173057927</td>\n",
       "      <td>1173057927</td>\n",
       "      <td>1173057927</td>\n",
       "      <td>1173057926</td>\n",
       "      <td>1002161871</td>\n",
       "      <td>638914438</td>\n",
       "      <td>1173043432</td>\n",
       "      <td>1173050240</td>\n",
       "      <td>1173057925</td>\n",
       "      <td>1173057925</td>\n",
       "      <td>1032017356</td>\n",
       "      <td>1173057925</td>\n",
       "      <td>1173057925</td>\n",
       "      <td>1173057925</td>\n",
       "    </tr>\n",
       "    <tr>\n",
       "      <th>NA</th>\n",
       "      <td>0</td>\n",
       "      <td>0</td>\n",
       "      <td>0</td>\n",
       "      <td>0</td>\n",
       "      <td>0</td>\n",
       "      <td>0</td>\n",
       "      <td>0</td>\n",
       "      <td>1</td>\n",
       "      <td>170896056</td>\n",
       "      <td>534143489</td>\n",
       "      <td>14495</td>\n",
       "      <td>7687</td>\n",
       "      <td>2</td>\n",
       "      <td>2</td>\n",
       "      <td>141040571</td>\n",
       "      <td>2</td>\n",
       "      <td>2</td>\n",
       "      <td>2</td>\n",
       "    </tr>\n",
       "    <tr>\n",
       "      <th>mean</th>\n",
       "      <td>--</td>\n",
       "      <td>1970-01-01T00:00:01.953533625</td>\n",
       "      <td>1970-01-01T00:00:14.506598422</td>\n",
       "      <td>1.6844313554517245</td>\n",
       "      <td>--</td>\n",
       "      <td>5.390923660968658</td>\n",
       "      <td>-72.53224844702883</td>\n",
       "      <td>39.93453139351886</td>\n",
       "      <td>1.035820754150404</td>\n",
       "      <td>0.017168377090266976</td>\n",
       "      <td>-72.53741806425012</td>\n",
       "      <td>39.93694872311042</td>\n",
       "      <td>11.21730815580086</td>\n",
       "      <td>0.3036385232379648</td>\n",
       "      <td>0.4963069205116383</td>\n",
       "      <td>1.1294571893021066</td>\n",
       "      <td>0.18678067517757976</td>\n",
       "      <td>13.31476581419954</td>\n",
       "    </tr>\n",
       "    <tr>\n",
       "      <th>std</th>\n",
       "      <td>--</td>\n",
       "      <td>62223927140843000.0</td>\n",
       "      <td>62226550658763960.0</td>\n",
       "      <td>1.330321</td>\n",
       "      <td>--</td>\n",
       "      <td>7756.520806</td>\n",
       "      <td>12.750525</td>\n",
       "      <td>9.516751</td>\n",
       "      <td>0.441996</td>\n",
       "      <td>0.129899</td>\n",
       "      <td>12.676822</td>\n",
       "      <td>9.504872</td>\n",
       "      <td>633.505037</td>\n",
       "      <td>0.395407</td>\n",
       "      <td>0.068399</td>\n",
       "      <td>132.842337</td>\n",
       "      <td>886.718093</td>\n",
       "      <td>1098.433815</td>\n",
       "    </tr>\n",
       "    <tr>\n",
       "      <th>min</th>\n",
       "      <td>--</td>\n",
       "      <td>2009-01-01T00:00:27.365015552</td>\n",
       "      <td>1899-12-31T23:59:43.370698752</td>\n",
       "      <td>0</td>\n",
       "      <td>--</td>\n",
       "      <td>-40840124.0</td>\n",
       "      <td>-3509.015137</td>\n",
       "      <td>-3579.139404</td>\n",
       "      <td>0.0</td>\n",
       "      <td>0.0</td>\n",
       "      <td>-3579.139404</td>\n",
       "      <td>-3579.139404</td>\n",
       "      <td>-21474808.0</td>\n",
       "      <td>-79.0</td>\n",
       "      <td>-3.0</td>\n",
       "      <td>-1677720.125</td>\n",
       "      <td>-21474836.0</td>\n",
       "      <td>-21474830.0</td>\n",
       "    </tr>\n",
       "    <tr>\n",
       "      <th>max</th>\n",
       "      <td>--</td>\n",
       "      <td>2016-01-01T00:00:49.632313344</td>\n",
       "      <td>2253-08-23T08:00:13.061652480</td>\n",
       "      <td>255</td>\n",
       "      <td>--</td>\n",
       "      <td>198623008.0</td>\n",
       "      <td>3570.224121</td>\n",
       "      <td>3577.135498</td>\n",
       "      <td>252.0</td>\n",
       "      <td>2.0</td>\n",
       "      <td>3460.426758</td>\n",
       "      <td>3577.13501</td>\n",
       "      <td>825998.625</td>\n",
       "      <td>999.98999</td>\n",
       "      <td>1311.219971</td>\n",
       "      <td>3950588.75</td>\n",
       "      <td>5510.069824</td>\n",
       "      <td>3950611.5</td>\n",
       "    </tr>\n",
       "  </tbody>\n",
       "</table>\n",
       "</div>"
      ],
      "text/plain": [
       "              vendor_id                pickup_datetime  \\\n",
       "data_type  large_string                 datetime64[ns]   \n",
       "count        1173057927                     1173057927   \n",
       "NA                    0                              0   \n",
       "mean                 --  1970-01-01T00:00:01.953533625   \n",
       "std                  --            62223927140843000.0   \n",
       "min                  --  2009-01-01T00:00:27.365015552   \n",
       "max                  --  2016-01-01T00:00:49.632313344   \n",
       "\n",
       "                        dropoff_datetime     passenger_count  payment_type  \\\n",
       "data_type                 datetime64[ns]               int64  large_string   \n",
       "count                         1173057927          1173057927    1173057927   \n",
       "NA                                     0                   0             0   \n",
       "mean       1970-01-01T00:00:14.506598422  1.6844313554517245            --   \n",
       "std                  62226550658763960.0            1.330321            --   \n",
       "min        1899-12-31T23:59:43.370698752                   0            --   \n",
       "max        2253-08-23T08:00:13.061652480                 255            --   \n",
       "\n",
       "               trip_distance    pickup_longitude    pickup_latitude  \\\n",
       "data_type            float32             float32            float32   \n",
       "count             1173057927          1173057927         1173057926   \n",
       "NA                         0                   0                  1   \n",
       "mean       5.390923660968658  -72.53224844702883  39.93453139351886   \n",
       "std              7756.520806           12.750525           9.516751   \n",
       "min              -40840124.0        -3509.015137       -3579.139404   \n",
       "max              198623008.0         3570.224121        3577.135498   \n",
       "\n",
       "                   rate_code    store_and_fwd_flag   dropoff_longitude  \\\n",
       "data_type            float32               float32             float32   \n",
       "count             1002161871             638914438          1173043432   \n",
       "NA                 170896056             534143489               14495   \n",
       "mean       1.035820754150404  0.017168377090266976  -72.53741806425012   \n",
       "std                 0.441996              0.129899           12.676822   \n",
       "min                      0.0                   0.0        -3579.139404   \n",
       "max                    252.0                   2.0         3460.426758   \n",
       "\n",
       "            dropoff_latitude        fare_amount           surcharge  \\\n",
       "data_type            float32            float32             float32   \n",
       "count             1173050240         1173057925          1173057925   \n",
       "NA                      7687                  2                   2   \n",
       "mean       39.93694872311042  11.21730815580086  0.3036385232379648   \n",
       "std                 9.504872         633.505037            0.395407   \n",
       "min             -3579.139404        -21474808.0               -79.0   \n",
       "max               3577.13501         825998.625           999.98999   \n",
       "\n",
       "                      mta_tax          tip_amount         tolls_amount  \\\n",
       "data_type             float32             float32              float32   \n",
       "count              1032017356          1173057925           1173057925   \n",
       "NA                  141040571                   2                    2   \n",
       "mean       0.4963069205116383  1.1294571893021066  0.18678067517757976   \n",
       "std                  0.068399          132.842337           886.718093   \n",
       "min                      -3.0        -1677720.125          -21474836.0   \n",
       "max               1311.219971          3950588.75          5510.069824   \n",
       "\n",
       "                total_amount  \n",
       "data_type            float32  \n",
       "count             1173057925  \n",
       "NA                         2  \n",
       "mean       13.31476581419954  \n",
       "std              1098.433815  \n",
       "min              -21474830.0  \n",
       "max                3950611.5  "
      ]
     },
     "execution_count": 39,
     "metadata": {},
     "output_type": "execute_result"
    }
   ],
   "source": [
    "@time_it\n",
    "def describe():\n",
    "    return df.describe()\n",
    "\n",
    "describe()"
   ]
  },
  {
   "cell_type": "code",
   "execution_count": 56,
   "metadata": {
    "pycharm": {
     "name": "#%%\n"
    }
   },
   "outputs": [
    {
     "name": "stderr",
     "output_type": "stream",
     "text": [
      "/Users/jeremy/.virtualenvs/vaex_1000_gb_data/lib/python3.7/site-packages/ipykernel_launcher.py:6: DeprecationWarning: Call to deprecated function plot_widget: use df.widget.heatmap\n",
      "  \n"
     ]
    },
    {
     "data": {
      "application/vnd.jupyter.widget-view+json": {
       "model_id": "7da039cdb6ca45a3be8469b32dc7e368",
       "version_major": 2,
       "version_minor": 0
      },
      "text/plain": [
       "Heatmap(children=[ToolsToolbar(interact_value=None, supports_normalize=False, template='<template>\\n  <v-toolb…"
      ]
     },
     "metadata": {},
     "output_type": "display_data"
    }
   ],
   "source": [
    "df.plot_widget(df.pickup_longitude,\n",
    "               df.pickup_latitude,\n",
    "               shape = 512,\n",
    "               limits = 'minmax',\n",
    "               f='log1p',\n",
    "               colormap='plasma')"
   ]
  },
  {
   "cell_type": "code",
   "execution_count": 57,
   "metadata": {
    "pycharm": {
     "name": "#%%\n"
    }
   },
   "outputs": [],
   "source": [
    "long_min = -74.05\n",
    "long_max = -73.75\n",
    "lat_min = 40.58\n",
    "lat_max = 40.90\n",
    "\n",
    "# make a selection based on the boundaries\n",
    "df_filtered = df[(df.pickup_longitude > long_min) & (df.pickup_longitude < long_max) &\\\n",
    "                (df.pickup_latitude > lat_min) & (df.pickup_latitude < lat_max) &\\\n",
    "                (df.dropoff_longitude > long_min) & (df.dropoff_longitude < long_max) &\\\n",
    "                (df.dropoff_latitude > lat_min) & (df.dropoff_latitude < lat_max)]"
   ]
  },
  {
   "cell_type": "code",
   "execution_count": 50,
   "metadata": {
    "pycharm": {
     "name": "#%%\n"
    }
   },
   "outputs": [
    {
     "name": "stderr",
     "output_type": "stream",
     "text": [
      "/Users/jeremy/.virtualenvs/vaex_1000_gb_data/lib/python3.7/site-packages/ipykernel_launcher.py:6: DeprecationWarning: Call to deprecated function plot_widget: use df.widget.heatmap\n",
      "  \n",
      "ERROR:MainThread:vaex.execution:nested execute call\n",
      "ERROR:MainThread:vaex.jupyter:Error while executing tasks\n",
      "Traceback (most recent call last):\n",
      "  File \"/Users/jeremy/.virtualenvs/vaex_1000_gb_data/lib/python3.7/site-packages/vaex/jupyter/__init__.py\", line 41, in execute_debounced\n",
      "    await self.df.execute_async()\n",
      "  File \"/Users/jeremy/.virtualenvs/vaex_1000_gb_data/lib/python3.7/site-packages/vaex/dataframe.py\", line 380, in execute_async\n",
      "    await self.executor.execute_async()\n",
      "  File \"/Users/jeremy/.virtualenvs/vaex_1000_gb_data/lib/python3.7/site-packages/vaex/execution.py\", line 135, in execute_async\n",
      "    raise RuntimeError(\"nested execute call: %r %r\\nlast trace:\\n%s\\ncurrent trace:\\n%s\" % (chunk_executor_thread, self.local.executing, self.local.last_trace, trace))\n",
      "RuntimeError: nested execute call: False True\n",
      "last trace:\n",
      "  File \"/Library/Frameworks/Python.framework/Versions/3.7/lib/python3.7/runpy.py\", line 193, in _run_module_as_main\n",
      "    \"__main__\", mod_spec)\n",
      "  File \"/Library/Frameworks/Python.framework/Versions/3.7/lib/python3.7/runpy.py\", line 85, in _run_code\n",
      "    exec(code, run_globals)\n",
      "  File \"/Users/jeremy/.virtualenvs/vaex_1000_gb_data/lib/python3.7/site-packages/ipykernel_launcher.py\", line 16, in <module>\n",
      "    app.launch_new_instance()\n",
      "  File \"/Users/jeremy/.virtualenvs/vaex_1000_gb_data/lib/python3.7/site-packages/traitlets/config/application.py\", line 845, in launch_instance\n",
      "    app.start()\n",
      "  File \"/Users/jeremy/.virtualenvs/vaex_1000_gb_data/lib/python3.7/site-packages/ipykernel/kernelapp.py\", line 667, in start\n",
      "    self.io_loop.start()\n",
      "  File \"/Users/jeremy/.virtualenvs/vaex_1000_gb_data/lib/python3.7/site-packages/tornado/platform/asyncio.py\", line 199, in start\n",
      "    self.asyncio_loop.run_forever()\n",
      "  File \"/Library/Frameworks/Python.framework/Versions/3.7/lib/python3.7/asyncio/base_events.py\", line 541, in run_forever\n",
      "    self._run_once()\n",
      "  File \"/Users/jeremy/.virtualenvs/vaex_1000_gb_data/lib/python3.7/site-packages/nest_asyncio.py\", line 100, in _run_once\n",
      "    handle._run()\n",
      "  File \"/Library/Frameworks/Python.framework/Versions/3.7/lib/python3.7/asyncio/events.py\", line 88, in _run\n",
      "    self._context.run(self._callback, *self._args)\n",
      "  File \"/Users/jeremy/.virtualenvs/vaex_1000_gb_data/lib/python3.7/site-packages/ipykernel/kernelbase.py\", line 456, in dispatch_queue\n",
      "    await self.process_one()\n",
      "  File \"/Users/jeremy/.virtualenvs/vaex_1000_gb_data/lib/python3.7/site-packages/ipykernel/kernelbase.py\", line 445, in process_one\n",
      "    await dispatch(*args)\n",
      "  File \"/Users/jeremy/.virtualenvs/vaex_1000_gb_data/lib/python3.7/site-packages/ipykernel/kernelbase.py\", line 352, in dispatch_shell\n",
      "    await result\n",
      "  File \"/Users/jeremy/.virtualenvs/vaex_1000_gb_data/lib/python3.7/site-packages/ipykernel/kernelbase.py\", line 647, in execute_request\n",
      "    reply_content = await reply_content\n",
      "  File \"/Users/jeremy/.virtualenvs/vaex_1000_gb_data/lib/python3.7/site-packages/ipykernel/ipkernel.py\", line 345, in do_execute\n",
      "    res = shell.run_cell(code, store_history=store_history, silent=silent)\n",
      "  File \"/Users/jeremy/.virtualenvs/vaex_1000_gb_data/lib/python3.7/site-packages/ipykernel/zmqshell.py\", line 532, in run_cell\n",
      "    return super(ZMQInteractiveShell, self).run_cell(*args, **kwargs)\n",
      "  File \"/Users/jeremy/.virtualenvs/vaex_1000_gb_data/lib/python3.7/site-packages/IPython/core/interactiveshell.py\", line 2899, in run_cell\n",
      "    raw_cell, store_history, silent, shell_futures)\n",
      "  File \"/Users/jeremy/.virtualenvs/vaex_1000_gb_data/lib/python3.7/site-packages/IPython/core/interactiveshell.py\", line 2944, in _run_cell\n",
      "    return runner(coro)\n",
      "  File \"/Users/jeremy/.virtualenvs/vaex_1000_gb_data/lib/python3.7/site-packages/IPython/core/async_helpers.py\", line 68, in _pseudo_sync_runner\n",
      "    coro.send(None)\n",
      "  File \"/Users/jeremy/.virtualenvs/vaex_1000_gb_data/lib/python3.7/site-packages/IPython/core/interactiveshell.py\", line 3170, in run_cell_async\n",
      "    interactivity=interactivity, compiler=compiler, result=result)\n",
      "  File \"/Users/jeremy/.virtualenvs/vaex_1000_gb_data/lib/python3.7/site-packages/IPython/core/interactiveshell.py\", line 3361, in run_ast_nodes\n",
      "    if (await self.run_code(code, result,  async_=asy)):\n",
      "  File \"/Users/jeremy/.virtualenvs/vaex_1000_gb_data/lib/python3.7/site-packages/IPython/core/interactiveshell.py\", line 3441, in run_code\n",
      "    exec(code_obj, self.user_global_ns, self.user_ns)\n",
      "  File \"/var/folders/l7/j9dfdmsn1dlbqh7v6btfq1kh0000gn/T/ipykernel_3941/298292008.py\", line 6, in <module>\n",
      "    colormap='plasma')\n",
      "  File \"/Users/jeremy/.virtualenvs/vaex_1000_gb_data/lib/python3.7/site-packages/vaex/utils.py\", line 57, in wraps2\n",
      "    return f(*args, **kwargs)\n",
      "  File \"/Users/jeremy/.virtualenvs/vaex_1000_gb_data/lib/python3.7/site-packages/vaex/dataframe.py\", line 1773, in plot_widget\n",
      "    return self.widget.heatmap(x, y, limits=limits, transform=f, **kwargs)\n",
      "  File \"/Users/jeremy/.virtualenvs/vaex_1000_gb_data/lib/python3.7/site-packages/vaex/jupyter/__init__.py\", line 110, in heatmap\n",
      "    x, y = self._axes([x, y], limits)\n",
      "  File \"/Users/jeremy/.virtualenvs/vaex_1000_gb_data/lib/python3.7/site-packages/vaex/jupyter/__init__.py\", line 73, in _axes\n",
      "    limits = self.df.limits(expressions, limits)\n",
      "  File \"/Users/jeremy/.virtualenvs/vaex_1000_gb_data/lib/python3.7/site-packages/vaex/dataframe.py\", line 1738, in limits\n",
      "    return self._delay(delay, finish(limits_list))\n",
      "  File \"/Users/jeremy/.virtualenvs/vaex_1000_gb_data/lib/python3.7/site-packages/vaex/dataframe.py\", line 1537, in _delay\n",
      "    self.execute()\n",
      "  File \"/Users/jeremy/.virtualenvs/vaex_1000_gb_data/lib/python3.7/site-packages/vaex/dataframe.py\", line 375, in execute\n",
      "    just_run(self.execute_async())\n",
      "  File \"/Users/jeremy/.virtualenvs/vaex_1000_gb_data/lib/python3.7/site-packages/vaex/asyncio.py\", line 35, in just_run\n",
      "    return loop.run_until_complete(coro)\n",
      "  File \"/Users/jeremy/.virtualenvs/vaex_1000_gb_data/lib/python3.7/site-packages/nest_asyncio.py\", line 64, in run_until_complete\n",
      "    self._run_once()\n",
      "  File \"/Users/jeremy/.virtualenvs/vaex_1000_gb_data/lib/python3.7/site-packages/nest_asyncio.py\", line 100, in _run_once\n",
      "    handle._run()\n",
      "  File \"/Library/Frameworks/Python.framework/Versions/3.7/lib/python3.7/asyncio/events.py\", line 88, in _run\n",
      "    self._context.run(self._callback, *self._args)\n",
      "  File \"/Users/jeremy/.virtualenvs/vaex_1000_gb_data/lib/python3.7/site-packages/nest_asyncio.py\", line 169, in step\n",
      "    step_orig(task, exc)\n",
      "  File \"/Library/Frameworks/Python.framework/Versions/3.7/lib/python3.7/asyncio/tasks.py\", line 249, in __step\n",
      "    result = coro.send(None)\n",
      "  File \"/Users/jeremy/.virtualenvs/vaex_1000_gb_data/lib/python3.7/site-packages/vaex/dataframe.py\", line 380, in execute_async\n",
      "    await self.executor.execute_async()\n",
      "  File \"/Users/jeremy/.virtualenvs/vaex_1000_gb_data/lib/python3.7/site-packages/vaex/execution.py\", line 132, in execute_async\n",
      "    trace = ''.join(traceback.format_stack())\n",
      "\n",
      "current trace:\n",
      "  File \"/Library/Frameworks/Python.framework/Versions/3.7/lib/python3.7/runpy.py\", line 193, in _run_module_as_main\n",
      "    \"__main__\", mod_spec)\n",
      "  File \"/Library/Frameworks/Python.framework/Versions/3.7/lib/python3.7/runpy.py\", line 85, in _run_code\n",
      "    exec(code, run_globals)\n",
      "  File \"/Users/jeremy/.virtualenvs/vaex_1000_gb_data/lib/python3.7/site-packages/ipykernel_launcher.py\", line 16, in <module>\n",
      "    app.launch_new_instance()\n",
      "  File \"/Users/jeremy/.virtualenvs/vaex_1000_gb_data/lib/python3.7/site-packages/traitlets/config/application.py\", line 845, in launch_instance\n",
      "    app.start()\n",
      "  File \"/Users/jeremy/.virtualenvs/vaex_1000_gb_data/lib/python3.7/site-packages/ipykernel/kernelapp.py\", line 667, in start\n",
      "    self.io_loop.start()\n",
      "  File \"/Users/jeremy/.virtualenvs/vaex_1000_gb_data/lib/python3.7/site-packages/tornado/platform/asyncio.py\", line 199, in start\n",
      "    self.asyncio_loop.run_forever()\n",
      "  File \"/Library/Frameworks/Python.framework/Versions/3.7/lib/python3.7/asyncio/base_events.py\", line 541, in run_forever\n",
      "    self._run_once()\n",
      "  File \"/Users/jeremy/.virtualenvs/vaex_1000_gb_data/lib/python3.7/site-packages/nest_asyncio.py\", line 100, in _run_once\n",
      "    handle._run()\n",
      "  File \"/Library/Frameworks/Python.framework/Versions/3.7/lib/python3.7/asyncio/events.py\", line 88, in _run\n",
      "    self._context.run(self._callback, *self._args)\n",
      "  File \"/Users/jeremy/.virtualenvs/vaex_1000_gb_data/lib/python3.7/site-packages/ipykernel/kernelbase.py\", line 456, in dispatch_queue\n",
      "    await self.process_one()\n",
      "  File \"/Users/jeremy/.virtualenvs/vaex_1000_gb_data/lib/python3.7/site-packages/ipykernel/kernelbase.py\", line 445, in process_one\n",
      "    await dispatch(*args)\n",
      "  File \"/Users/jeremy/.virtualenvs/vaex_1000_gb_data/lib/python3.7/site-packages/ipykernel/kernelbase.py\", line 352, in dispatch_shell\n",
      "    await result\n",
      "  File \"/Users/jeremy/.virtualenvs/vaex_1000_gb_data/lib/python3.7/site-packages/ipykernel/kernelbase.py\", line 647, in execute_request\n",
      "    reply_content = await reply_content\n",
      "  File \"/Users/jeremy/.virtualenvs/vaex_1000_gb_data/lib/python3.7/site-packages/ipykernel/ipkernel.py\", line 345, in do_execute\n",
      "    res = shell.run_cell(code, store_history=store_history, silent=silent)\n",
      "  File \"/Users/jeremy/.virtualenvs/vaex_1000_gb_data/lib/python3.7/site-packages/ipykernel/zmqshell.py\", line 532, in run_cell\n",
      "    return super(ZMQInteractiveShell, self).run_cell(*args, **kwargs)\n",
      "  File \"/Users/jeremy/.virtualenvs/vaex_1000_gb_data/lib/python3.7/site-packages/IPython/core/interactiveshell.py\", line 2899, in run_cell\n",
      "    raw_cell, store_history, silent, shell_futures)\n",
      "  File \"/Users/jeremy/.virtualenvs/vaex_1000_gb_data/lib/python3.7/site-packages/IPython/core/interactiveshell.py\", line 2944, in _run_cell\n",
      "    return runner(coro)\n",
      "  File \"/Users/jeremy/.virtualenvs/vaex_1000_gb_data/lib/python3.7/site-packages/IPython/core/async_helpers.py\", line 68, in _pseudo_sync_runner\n",
      "    coro.send(None)\n",
      "  File \"/Users/jeremy/.virtualenvs/vaex_1000_gb_data/lib/python3.7/site-packages/IPython/core/interactiveshell.py\", line 3170, in run_cell_async\n",
      "    interactivity=interactivity, compiler=compiler, result=result)\n",
      "  File \"/Users/jeremy/.virtualenvs/vaex_1000_gb_data/lib/python3.7/site-packages/IPython/core/interactiveshell.py\", line 3361, in run_ast_nodes\n",
      "    if (await self.run_code(code, result,  async_=asy)):\n",
      "  File \"/Users/jeremy/.virtualenvs/vaex_1000_gb_data/lib/python3.7/site-packages/IPython/core/interactiveshell.py\", line 3441, in run_code\n",
      "    exec(code_obj, self.user_global_ns, self.user_ns)\n",
      "  File \"/var/folders/l7/j9dfdmsn1dlbqh7v6btfq1kh0000gn/T/ipykernel_3941/298292008.py\", line 6, in <module>\n",
      "    colormap='plasma')\n",
      "  File \"/Users/jeremy/.virtualenvs/vaex_1000_gb_data/lib/python3.7/site-packages/vaex/utils.py\", line 57, in wraps2\n",
      "    return f(*args, **kwargs)\n",
      "  File \"/Users/jeremy/.virtualenvs/vaex_1000_gb_data/lib/python3.7/site-packages/vaex/dataframe.py\", line 1773, in plot_widget\n",
      "    return self.widget.heatmap(x, y, limits=limits, transform=f, **kwargs)\n",
      "  File \"/Users/jeremy/.virtualenvs/vaex_1000_gb_data/lib/python3.7/site-packages/vaex/jupyter/__init__.py\", line 110, in heatmap\n",
      "    x, y = self._axes([x, y], limits)\n",
      "  File \"/Users/jeremy/.virtualenvs/vaex_1000_gb_data/lib/python3.7/site-packages/vaex/jupyter/__init__.py\", line 73, in _axes\n",
      "    limits = self.df.limits(expressions, limits)\n",
      "  File \"/Users/jeremy/.virtualenvs/vaex_1000_gb_data/lib/python3.7/site-packages/vaex/dataframe.py\", line 1738, in limits\n",
      "    return self._delay(delay, finish(limits_list))\n",
      "  File \"/Users/jeremy/.virtualenvs/vaex_1000_gb_data/lib/python3.7/site-packages/vaex/dataframe.py\", line 1537, in _delay\n",
      "    self.execute()\n",
      "  File \"/Users/jeremy/.virtualenvs/vaex_1000_gb_data/lib/python3.7/site-packages/vaex/dataframe.py\", line 375, in execute\n",
      "    just_run(self.execute_async())\n",
      "  File \"/Users/jeremy/.virtualenvs/vaex_1000_gb_data/lib/python3.7/site-packages/vaex/asyncio.py\", line 35, in just_run\n",
      "    return loop.run_until_complete(coro)\n",
      "  File \"/Users/jeremy/.virtualenvs/vaex_1000_gb_data/lib/python3.7/site-packages/nest_asyncio.py\", line 64, in run_until_complete\n",
      "    self._run_once()\n",
      "  File \"/Users/jeremy/.virtualenvs/vaex_1000_gb_data/lib/python3.7/site-packages/nest_asyncio.py\", line 100, in _run_once\n",
      "    handle._run()\n",
      "  File \"/Library/Frameworks/Python.framework/Versions/3.7/lib/python3.7/asyncio/events.py\", line 88, in _run\n",
      "    self._context.run(self._callback, *self._args)\n",
      "  File \"/Library/Frameworks/Python.framework/Versions/3.7/lib/python3.7/asyncio/tasks.py\", line 329, in __wakeup\n",
      "    self.__step()\n",
      "  File \"/Users/jeremy/.virtualenvs/vaex_1000_gb_data/lib/python3.7/site-packages/nest_asyncio.py\", line 169, in step\n",
      "    step_orig(task, exc)\n",
      "  File \"/Library/Frameworks/Python.framework/Versions/3.7/lib/python3.7/asyncio/tasks.py\", line 249, in __step\n",
      "    result = coro.send(None)\n",
      "  File \"/Users/jeremy/.virtualenvs/vaex_1000_gb_data/lib/python3.7/site-packages/vaex/jupyter/utils.py\", line 184, in run_async\n",
      "    result = await result\n",
      "  File \"/Users/jeremy/.virtualenvs/vaex_1000_gb_data/lib/python3.7/site-packages/vaex/jupyter/__init__.py\", line 41, in execute_debounced\n",
      "    await self.df.execute_async()\n",
      "  File \"/Users/jeremy/.virtualenvs/vaex_1000_gb_data/lib/python3.7/site-packages/vaex/dataframe.py\", line 380, in execute_async\n",
      "    await self.executor.execute_async()\n",
      "  File \"/Users/jeremy/.virtualenvs/vaex_1000_gb_data/lib/python3.7/site-packages/vaex/execution.py\", line 132, in execute_async\n",
      "    trace = ''.join(traceback.format_stack())\n",
      "\n"
     ]
    },
    {
     "ename": "KeyboardInterrupt",
     "evalue": "",
     "output_type": "error",
     "traceback": [
      "\u001B[0;31m---------------------------------------------------------------------------\u001B[0m",
      "\u001B[0;31mKeyboardInterrupt\u001B[0m                         Traceback (most recent call last)",
      "\u001B[0;32m/var/folders/l7/j9dfdmsn1dlbqh7v6btfq1kh0000gn/T/ipykernel_3941/298292008.py\u001B[0m in \u001B[0;36m<module>\u001B[0;34m\u001B[0m\n\u001B[1;32m      4\u001B[0m                \u001B[0mlimits\u001B[0m \u001B[0;34m=\u001B[0m \u001B[0;34m'minmax'\u001B[0m\u001B[0;34m,\u001B[0m\u001B[0;34m\u001B[0m\u001B[0;34m\u001B[0m\u001B[0m\n\u001B[1;32m      5\u001B[0m                \u001B[0mf\u001B[0m\u001B[0;34m=\u001B[0m\u001B[0;34m'log1p'\u001B[0m\u001B[0;34m,\u001B[0m\u001B[0;34m\u001B[0m\u001B[0;34m\u001B[0m\u001B[0m\n\u001B[0;32m----> 6\u001B[0;31m                colormap='plasma')\n\u001B[0m",
      "\u001B[0;32m~/.virtualenvs/vaex_1000_gb_data/lib/python3.7/site-packages/vaex/utils.py\u001B[0m in \u001B[0;36mwraps2\u001B[0;34m(*args, **kwargs)\u001B[0m\n\u001B[1;32m     55\u001B[0m             warnings.warn(\"Call to deprecated function {}: {}\".format(f.__name__, reason),\n\u001B[1;32m     56\u001B[0m                           category=DeprecationWarning, stacklevel=2)\n\u001B[0;32m---> 57\u001B[0;31m             \u001B[0;32mreturn\u001B[0m \u001B[0mf\u001B[0m\u001B[0;34m(\u001B[0m\u001B[0;34m*\u001B[0m\u001B[0margs\u001B[0m\u001B[0;34m,\u001B[0m \u001B[0;34m**\u001B[0m\u001B[0mkwargs\u001B[0m\u001B[0;34m)\u001B[0m\u001B[0;34m\u001B[0m\u001B[0;34m\u001B[0m\u001B[0m\n\u001B[0m\u001B[1;32m     58\u001B[0m \u001B[0;34m\u001B[0m\u001B[0m\n\u001B[1;32m     59\u001B[0m         \u001B[0;32mreturn\u001B[0m \u001B[0mwraps2\u001B[0m\u001B[0;34m\u001B[0m\u001B[0;34m\u001B[0m\u001B[0m\n",
      "\u001B[0;32m~/.virtualenvs/vaex_1000_gb_data/lib/python3.7/site-packages/vaex/dataframe.py\u001B[0m in \u001B[0;36mplot_widget\u001B[0;34m(self, x, y, limits, f, **kwargs)\u001B[0m\n\u001B[1;32m   1771\u001B[0m     \u001B[0;34m@\u001B[0m\u001B[0mvaex\u001B[0m\u001B[0;34m.\u001B[0m\u001B[0mutils\u001B[0m\u001B[0;34m.\u001B[0m\u001B[0mdeprecated\u001B[0m\u001B[0;34m(\u001B[0m\u001B[0;34m'use df.widget.heatmap'\u001B[0m\u001B[0;34m)\u001B[0m\u001B[0;34m\u001B[0m\u001B[0;34m\u001B[0m\u001B[0m\n\u001B[1;32m   1772\u001B[0m     \u001B[0;32mdef\u001B[0m \u001B[0mplot_widget\u001B[0m\u001B[0;34m(\u001B[0m\u001B[0mself\u001B[0m\u001B[0;34m,\u001B[0m \u001B[0mx\u001B[0m\u001B[0;34m,\u001B[0m \u001B[0my\u001B[0m\u001B[0;34m,\u001B[0m \u001B[0mlimits\u001B[0m\u001B[0;34m=\u001B[0m\u001B[0;32mNone\u001B[0m\u001B[0;34m,\u001B[0m \u001B[0mf\u001B[0m\u001B[0;34m=\u001B[0m\u001B[0;34m\"identity\"\u001B[0m\u001B[0;34m,\u001B[0m \u001B[0;34m**\u001B[0m\u001B[0mkwargs\u001B[0m\u001B[0;34m)\u001B[0m\u001B[0;34m:\u001B[0m\u001B[0;34m\u001B[0m\u001B[0;34m\u001B[0m\u001B[0m\n\u001B[0;32m-> 1773\u001B[0;31m         \u001B[0;32mreturn\u001B[0m \u001B[0mself\u001B[0m\u001B[0;34m.\u001B[0m\u001B[0mwidget\u001B[0m\u001B[0;34m.\u001B[0m\u001B[0mheatmap\u001B[0m\u001B[0;34m(\u001B[0m\u001B[0mx\u001B[0m\u001B[0;34m,\u001B[0m \u001B[0my\u001B[0m\u001B[0;34m,\u001B[0m \u001B[0mlimits\u001B[0m\u001B[0;34m=\u001B[0m\u001B[0mlimits\u001B[0m\u001B[0;34m,\u001B[0m \u001B[0mtransform\u001B[0m\u001B[0;34m=\u001B[0m\u001B[0mf\u001B[0m\u001B[0;34m,\u001B[0m \u001B[0;34m**\u001B[0m\u001B[0mkwargs\u001B[0m\u001B[0;34m)\u001B[0m\u001B[0;34m\u001B[0m\u001B[0;34m\u001B[0m\u001B[0m\n\u001B[0m\u001B[1;32m   1774\u001B[0m \u001B[0;34m\u001B[0m\u001B[0m\n\u001B[1;32m   1775\u001B[0m     \u001B[0;34m@\u001B[0m\u001B[0mvaex\u001B[0m\u001B[0;34m.\u001B[0m\u001B[0mutils\u001B[0m\u001B[0;34m.\u001B[0m\u001B[0mdeprecated\u001B[0m\u001B[0;34m(\u001B[0m\u001B[0;34m'use plot_widget'\u001B[0m\u001B[0;34m)\u001B[0m\u001B[0;34m\u001B[0m\u001B[0;34m\u001B[0m\u001B[0m\n",
      "\u001B[0;32m~/.virtualenvs/vaex_1000_gb_data/lib/python3.7/site-packages/vaex/jupyter/__init__.py\u001B[0m in \u001B[0;36mheatmap\u001B[0;34m(self, x, y, limits, selection, selection_interact, transform, toolbar, shape, shared, **kwargs)\u001B[0m\n\u001B[1;32m    108\u001B[0m         \u001B[0;32mimport\u001B[0m \u001B[0mvaex\u001B[0m\u001B[0;34m.\u001B[0m\u001B[0mjupyter\u001B[0m\u001B[0;34m.\u001B[0m\u001B[0mmodel\u001B[0m\u001B[0;34m\u001B[0m\u001B[0;34m\u001B[0m\u001B[0m\n\u001B[1;32m    109\u001B[0m         \u001B[0;32mimport\u001B[0m \u001B[0mvaex\u001B[0m\u001B[0;34m.\u001B[0m\u001B[0mjupyter\u001B[0m\u001B[0;34m.\u001B[0m\u001B[0mview\u001B[0m\u001B[0;34m\u001B[0m\u001B[0;34m\u001B[0m\u001B[0m\n\u001B[0;32m--> 110\u001B[0;31m         \u001B[0mx\u001B[0m\u001B[0;34m,\u001B[0m \u001B[0my\u001B[0m \u001B[0;34m=\u001B[0m \u001B[0mself\u001B[0m\u001B[0;34m.\u001B[0m\u001B[0m_axes\u001B[0m\u001B[0;34m(\u001B[0m\u001B[0;34m[\u001B[0m\u001B[0mx\u001B[0m\u001B[0;34m,\u001B[0m \u001B[0my\u001B[0m\u001B[0;34m]\u001B[0m\u001B[0;34m,\u001B[0m \u001B[0mlimits\u001B[0m\u001B[0;34m)\u001B[0m\u001B[0;34m\u001B[0m\u001B[0;34m\u001B[0m\u001B[0m\n\u001B[0m\u001B[1;32m    111\u001B[0m         \u001B[0;32mif\u001B[0m \u001B[0mselection\u001B[0m \u001B[0;32mis\u001B[0m \u001B[0;32mnot\u001B[0m \u001B[0;32mNone\u001B[0m\u001B[0;34m:\u001B[0m\u001B[0;34m\u001B[0m\u001B[0;34m\u001B[0m\u001B[0m\n\u001B[1;32m    112\u001B[0m             \u001B[0mselection\u001B[0m \u001B[0;34m=\u001B[0m \u001B[0mselection\u001B[0m\u001B[0;34m.\u001B[0m\u001B[0mcopy\u001B[0m\u001B[0;34m(\u001B[0m\u001B[0;34m)\u001B[0m\u001B[0;34m\u001B[0m\u001B[0;34m\u001B[0m\u001B[0m\n",
      "\u001B[0;32m~/.virtualenvs/vaex_1000_gb_data/lib/python3.7/site-packages/vaex/jupyter/__init__.py\u001B[0m in \u001B[0;36m_axes\u001B[0;34m(self, expressions, limits)\u001B[0m\n\u001B[1;32m     71\u001B[0m \u001B[0;34m\u001B[0m\u001B[0m\n\u001B[1;32m     72\u001B[0m     \u001B[0;32mdef\u001B[0m \u001B[0m_axes\u001B[0m\u001B[0;34m(\u001B[0m\u001B[0mself\u001B[0m\u001B[0;34m,\u001B[0m \u001B[0mexpressions\u001B[0m\u001B[0;34m,\u001B[0m \u001B[0mlimits\u001B[0m\u001B[0;34m)\u001B[0m\u001B[0;34m:\u001B[0m\u001B[0;34m\u001B[0m\u001B[0;34m\u001B[0m\u001B[0m\n\u001B[0;32m---> 73\u001B[0;31m         \u001B[0mlimits\u001B[0m \u001B[0;34m=\u001B[0m \u001B[0mself\u001B[0m\u001B[0;34m.\u001B[0m\u001B[0mdf\u001B[0m\u001B[0;34m.\u001B[0m\u001B[0mlimits\u001B[0m\u001B[0;34m(\u001B[0m\u001B[0mexpressions\u001B[0m\u001B[0;34m,\u001B[0m \u001B[0mlimits\u001B[0m\u001B[0;34m)\u001B[0m\u001B[0;34m\u001B[0m\u001B[0;34m\u001B[0m\u001B[0m\n\u001B[0m\u001B[1;32m     74\u001B[0m         \u001B[0maxes\u001B[0m \u001B[0;34m=\u001B[0m \u001B[0;34m[\u001B[0m\u001B[0mvaex\u001B[0m\u001B[0;34m.\u001B[0m\u001B[0mjupyter\u001B[0m\u001B[0;34m.\u001B[0m\u001B[0mmodel\u001B[0m\u001B[0;34m.\u001B[0m\u001B[0mAxis\u001B[0m\u001B[0;34m(\u001B[0m\u001B[0mdf\u001B[0m\u001B[0;34m=\u001B[0m\u001B[0mself\u001B[0m\u001B[0;34m.\u001B[0m\u001B[0mdf\u001B[0m\u001B[0;34m,\u001B[0m \u001B[0mexpression\u001B[0m\u001B[0;34m=\u001B[0m\u001B[0mexpression\u001B[0m\u001B[0;34m,\u001B[0m \u001B[0mmin\u001B[0m\u001B[0;34m=\u001B[0m\u001B[0mmin\u001B[0m\u001B[0;34m,\u001B[0m \u001B[0mmax\u001B[0m\u001B[0;34m=\u001B[0m\u001B[0mmax\u001B[0m\u001B[0;34m)\u001B[0m \u001B[0;32mfor\u001B[0m \u001B[0mexpression\u001B[0m\u001B[0;34m,\u001B[0m \u001B[0;34m(\u001B[0m\u001B[0mmin\u001B[0m\u001B[0;34m,\u001B[0m \u001B[0mmax\u001B[0m\u001B[0;34m)\u001B[0m \u001B[0;32min\u001B[0m \u001B[0mzip\u001B[0m\u001B[0;34m(\u001B[0m\u001B[0mexpressions\u001B[0m\u001B[0;34m,\u001B[0m \u001B[0mlimits\u001B[0m\u001B[0;34m)\u001B[0m\u001B[0;34m]\u001B[0m\u001B[0;34m\u001B[0m\u001B[0;34m\u001B[0m\u001B[0m\n\u001B[1;32m     75\u001B[0m         \u001B[0;32mreturn\u001B[0m \u001B[0maxes\u001B[0m\u001B[0;34m\u001B[0m\u001B[0;34m\u001B[0m\u001B[0m\n",
      "\u001B[0;32m~/.virtualenvs/vaex_1000_gb_data/lib/python3.7/site-packages/vaex/dataframe.py\u001B[0m in \u001B[0;36mlimits\u001B[0;34m(self, expression, value, square, selection, delay, shape)\u001B[0m\n\u001B[1;32m   1736\u001B[0m             \u001B[0;32melse\u001B[0m\u001B[0;34m:\u001B[0m\u001B[0;34m\u001B[0m\u001B[0;34m\u001B[0m\u001B[0m\n\u001B[1;32m   1737\u001B[0m                 \u001B[0;32mreturn\u001B[0m \u001B[0mvaex\u001B[0m\u001B[0;34m.\u001B[0m\u001B[0mutils\u001B[0m\u001B[0;34m.\u001B[0m\u001B[0munlistify\u001B[0m\u001B[0;34m(\u001B[0m\u001B[0mwaslist\u001B[0m\u001B[0;34m,\u001B[0m \u001B[0mlimits_outer\u001B[0m\u001B[0;34m)\u001B[0m\u001B[0;34m\u001B[0m\u001B[0;34m\u001B[0m\u001B[0m\n\u001B[0;32m-> 1738\u001B[0;31m         \u001B[0;32mreturn\u001B[0m \u001B[0mself\u001B[0m\u001B[0;34m.\u001B[0m\u001B[0m_delay\u001B[0m\u001B[0;34m(\u001B[0m\u001B[0mdelay\u001B[0m\u001B[0;34m,\u001B[0m \u001B[0mfinish\u001B[0m\u001B[0;34m(\u001B[0m\u001B[0mlimits_list\u001B[0m\u001B[0;34m)\u001B[0m\u001B[0;34m)\u001B[0m\u001B[0;34m\u001B[0m\u001B[0;34m\u001B[0m\u001B[0m\n\u001B[0m\u001B[1;32m   1739\u001B[0m \u001B[0;34m\u001B[0m\u001B[0m\n\u001B[1;32m   1740\u001B[0m     \u001B[0;32mdef\u001B[0m \u001B[0mmode\u001B[0m\u001B[0;34m(\u001B[0m\u001B[0mself\u001B[0m\u001B[0;34m,\u001B[0m \u001B[0mexpression\u001B[0m\u001B[0;34m,\u001B[0m \u001B[0mbinby\u001B[0m\u001B[0;34m=\u001B[0m\u001B[0;34m[\u001B[0m\u001B[0;34m]\u001B[0m\u001B[0;34m,\u001B[0m \u001B[0mlimits\u001B[0m\u001B[0;34m=\u001B[0m\u001B[0;32mNone\u001B[0m\u001B[0;34m,\u001B[0m \u001B[0mshape\u001B[0m\u001B[0;34m=\u001B[0m\u001B[0;36m256\u001B[0m\u001B[0;34m,\u001B[0m \u001B[0mmode_shape\u001B[0m\u001B[0;34m=\u001B[0m\u001B[0;36m64\u001B[0m\u001B[0;34m,\u001B[0m \u001B[0mmode_limits\u001B[0m\u001B[0;34m=\u001B[0m\u001B[0;32mNone\u001B[0m\u001B[0;34m,\u001B[0m \u001B[0mprogressbar\u001B[0m\u001B[0;34m=\u001B[0m\u001B[0;32mFalse\u001B[0m\u001B[0;34m,\u001B[0m \u001B[0mselection\u001B[0m\u001B[0;34m=\u001B[0m\u001B[0;32mNone\u001B[0m\u001B[0;34m)\u001B[0m\u001B[0;34m:\u001B[0m\u001B[0;34m\u001B[0m\u001B[0;34m\u001B[0m\u001B[0m\n",
      "\u001B[0;32m~/.virtualenvs/vaex_1000_gb_data/lib/python3.7/site-packages/vaex/dataframe.py\u001B[0m in \u001B[0;36m_delay\u001B[0;34m(self, delay, task, progressbar)\u001B[0m\n\u001B[1;32m   1535\u001B[0m             \u001B[0;32mreturn\u001B[0m \u001B[0mtask\u001B[0m\u001B[0;34m\u001B[0m\u001B[0;34m\u001B[0m\u001B[0m\n\u001B[1;32m   1536\u001B[0m         \u001B[0;32melse\u001B[0m\u001B[0;34m:\u001B[0m\u001B[0;34m\u001B[0m\u001B[0;34m\u001B[0m\u001B[0m\n\u001B[0;32m-> 1537\u001B[0;31m             \u001B[0mself\u001B[0m\u001B[0;34m.\u001B[0m\u001B[0mexecute\u001B[0m\u001B[0;34m(\u001B[0m\u001B[0;34m)\u001B[0m\u001B[0;34m\u001B[0m\u001B[0;34m\u001B[0m\u001B[0m\n\u001B[0m\u001B[1;32m   1538\u001B[0m             \u001B[0;32mreturn\u001B[0m \u001B[0mtask\u001B[0m\u001B[0;34m.\u001B[0m\u001B[0mget\u001B[0m\u001B[0;34m(\u001B[0m\u001B[0;34m)\u001B[0m\u001B[0;34m\u001B[0m\u001B[0;34m\u001B[0m\u001B[0m\n\u001B[1;32m   1539\u001B[0m \u001B[0;34m\u001B[0m\u001B[0m\n",
      "\u001B[0;32m~/.virtualenvs/vaex_1000_gb_data/lib/python3.7/site-packages/vaex/dataframe.py\u001B[0m in \u001B[0;36mexecute\u001B[0;34m(self)\u001B[0m\n\u001B[1;32m    373\u001B[0m         \u001B[0;34m'''Execute all delayed jobs.'''\u001B[0m\u001B[0;34m\u001B[0m\u001B[0;34m\u001B[0m\u001B[0m\n\u001B[1;32m    374\u001B[0m         \u001B[0;32mfrom\u001B[0m \u001B[0;34m.\u001B[0m\u001B[0masyncio\u001B[0m \u001B[0;32mimport\u001B[0m \u001B[0mjust_run\u001B[0m\u001B[0;34m\u001B[0m\u001B[0;34m\u001B[0m\u001B[0m\n\u001B[0;32m--> 375\u001B[0;31m         \u001B[0mjust_run\u001B[0m\u001B[0;34m(\u001B[0m\u001B[0mself\u001B[0m\u001B[0;34m.\u001B[0m\u001B[0mexecute_async\u001B[0m\u001B[0;34m(\u001B[0m\u001B[0;34m)\u001B[0m\u001B[0;34m)\u001B[0m\u001B[0;34m\u001B[0m\u001B[0;34m\u001B[0m\u001B[0m\n\u001B[0m\u001B[1;32m    376\u001B[0m \u001B[0;34m\u001B[0m\u001B[0m\n\u001B[1;32m    377\u001B[0m     \u001B[0;32masync\u001B[0m \u001B[0;32mdef\u001B[0m \u001B[0mexecute_async\u001B[0m\u001B[0;34m(\u001B[0m\u001B[0mself\u001B[0m\u001B[0;34m)\u001B[0m\u001B[0;34m:\u001B[0m\u001B[0;34m\u001B[0m\u001B[0;34m\u001B[0m\u001B[0m\n",
      "\u001B[0;32m~/.virtualenvs/vaex_1000_gb_data/lib/python3.7/site-packages/vaex/asyncio.py\u001B[0m in \u001B[0;36mjust_run\u001B[0;34m(coro)\u001B[0m\n\u001B[1;32m     33\u001B[0m             \u001B[0mnest_asyncio\u001B[0m\u001B[0;34m.\u001B[0m\u001B[0mapply\u001B[0m\u001B[0;34m(\u001B[0m\u001B[0;34m)\u001B[0m\u001B[0;34m\u001B[0m\u001B[0;34m\u001B[0m\u001B[0m\n\u001B[1;32m     34\u001B[0m             \u001B[0mcheck_patch_tornado\u001B[0m\u001B[0;34m(\u001B[0m\u001B[0;34m)\u001B[0m\u001B[0;34m\u001B[0m\u001B[0;34m\u001B[0m\u001B[0m\n\u001B[0;32m---> 35\u001B[0;31m         \u001B[0;32mreturn\u001B[0m \u001B[0mloop\u001B[0m\u001B[0;34m.\u001B[0m\u001B[0mrun_until_complete\u001B[0m\u001B[0;34m(\u001B[0m\u001B[0mcoro\u001B[0m\u001B[0;34m)\u001B[0m\u001B[0;34m\u001B[0m\u001B[0;34m\u001B[0m\u001B[0m\n\u001B[0m\u001B[1;32m     36\u001B[0m     \u001B[0;32mfinally\u001B[0m\u001B[0;34m:\u001B[0m\u001B[0;34m\u001B[0m\u001B[0;34m\u001B[0m\u001B[0m\n\u001B[1;32m     37\u001B[0m         \u001B[0;32mif\u001B[0m \u001B[0;32mnot\u001B[0m \u001B[0mhad_loop\u001B[0m\u001B[0;34m:\u001B[0m  \u001B[0;31m# remove loop if we did not have one\u001B[0m\u001B[0;34m\u001B[0m\u001B[0;34m\u001B[0m\u001B[0m\n",
      "\u001B[0;32m~/.virtualenvs/vaex_1000_gb_data/lib/python3.7/site-packages/nest_asyncio.py\u001B[0m in \u001B[0;36mrun_until_complete\u001B[0;34m(self, future)\u001B[0m\n\u001B[1;32m     62\u001B[0m                 \u001B[0mf\u001B[0m\u001B[0;34m.\u001B[0m\u001B[0m_log_destroy_pending\u001B[0m \u001B[0;34m=\u001B[0m \u001B[0;32mFalse\u001B[0m\u001B[0;34m\u001B[0m\u001B[0;34m\u001B[0m\u001B[0m\n\u001B[1;32m     63\u001B[0m             \u001B[0;32mwhile\u001B[0m \u001B[0;32mnot\u001B[0m \u001B[0mf\u001B[0m\u001B[0;34m.\u001B[0m\u001B[0mdone\u001B[0m\u001B[0;34m(\u001B[0m\u001B[0;34m)\u001B[0m\u001B[0;34m:\u001B[0m\u001B[0;34m\u001B[0m\u001B[0;34m\u001B[0m\u001B[0m\n\u001B[0;32m---> 64\u001B[0;31m                 \u001B[0mself\u001B[0m\u001B[0;34m.\u001B[0m\u001B[0m_run_once\u001B[0m\u001B[0;34m(\u001B[0m\u001B[0;34m)\u001B[0m\u001B[0;34m\u001B[0m\u001B[0;34m\u001B[0m\u001B[0m\n\u001B[0m\u001B[1;32m     65\u001B[0m                 \u001B[0;32mif\u001B[0m \u001B[0mself\u001B[0m\u001B[0;34m.\u001B[0m\u001B[0m_stopping\u001B[0m\u001B[0;34m:\u001B[0m\u001B[0;34m\u001B[0m\u001B[0;34m\u001B[0m\u001B[0m\n\u001B[1;32m     66\u001B[0m                     \u001B[0;32mbreak\u001B[0m\u001B[0;34m\u001B[0m\u001B[0;34m\u001B[0m\u001B[0m\n",
      "\u001B[0;32m~/.virtualenvs/vaex_1000_gb_data/lib/python3.7/site-packages/nest_asyncio.py\u001B[0m in \u001B[0;36m_run_once\u001B[0;34m(self)\u001B[0m\n\u001B[1;32m     85\u001B[0m             \u001B[0;32melse\u001B[0m \u001B[0mmin\u001B[0m\u001B[0;34m(\u001B[0m\u001B[0mmax\u001B[0m\u001B[0;34m(\u001B[0m\u001B[0mscheduled\u001B[0m\u001B[0;34m[\u001B[0m\u001B[0;36m0\u001B[0m\u001B[0;34m]\u001B[0m\u001B[0;34m.\u001B[0m\u001B[0m_when\u001B[0m \u001B[0;34m-\u001B[0m \u001B[0mnow\u001B[0m\u001B[0;34m,\u001B[0m \u001B[0;36m0\u001B[0m\u001B[0;34m)\u001B[0m\u001B[0;34m,\u001B[0m \u001B[0;36m86400\u001B[0m\u001B[0;34m)\u001B[0m \u001B[0;32mif\u001B[0m \u001B[0mscheduled\u001B[0m\u001B[0;34m\u001B[0m\u001B[0;34m\u001B[0m\u001B[0m\n\u001B[1;32m     86\u001B[0m             else None)\n\u001B[0;32m---> 87\u001B[0;31m         \u001B[0mevent_list\u001B[0m \u001B[0;34m=\u001B[0m \u001B[0mself\u001B[0m\u001B[0;34m.\u001B[0m\u001B[0m_selector\u001B[0m\u001B[0;34m.\u001B[0m\u001B[0mselect\u001B[0m\u001B[0;34m(\u001B[0m\u001B[0mtimeout\u001B[0m\u001B[0;34m)\u001B[0m\u001B[0;34m\u001B[0m\u001B[0;34m\u001B[0m\u001B[0m\n\u001B[0m\u001B[1;32m     88\u001B[0m         \u001B[0mself\u001B[0m\u001B[0;34m.\u001B[0m\u001B[0m_process_events\u001B[0m\u001B[0;34m(\u001B[0m\u001B[0mevent_list\u001B[0m\u001B[0;34m)\u001B[0m\u001B[0;34m\u001B[0m\u001B[0;34m\u001B[0m\u001B[0m\n\u001B[1;32m     89\u001B[0m \u001B[0;34m\u001B[0m\u001B[0m\n",
      "\u001B[0;32m/Library/Frameworks/Python.framework/Versions/3.7/lib/python3.7/selectors.py\u001B[0m in \u001B[0;36mselect\u001B[0;34m(self, timeout)\u001B[0m\n\u001B[1;32m    556\u001B[0m             \u001B[0mready\u001B[0m \u001B[0;34m=\u001B[0m \u001B[0;34m[\u001B[0m\u001B[0;34m]\u001B[0m\u001B[0;34m\u001B[0m\u001B[0;34m\u001B[0m\u001B[0m\n\u001B[1;32m    557\u001B[0m             \u001B[0;32mtry\u001B[0m\u001B[0;34m:\u001B[0m\u001B[0;34m\u001B[0m\u001B[0;34m\u001B[0m\u001B[0m\n\u001B[0;32m--> 558\u001B[0;31m                 \u001B[0mkev_list\u001B[0m \u001B[0;34m=\u001B[0m \u001B[0mself\u001B[0m\u001B[0;34m.\u001B[0m\u001B[0m_selector\u001B[0m\u001B[0;34m.\u001B[0m\u001B[0mcontrol\u001B[0m\u001B[0;34m(\u001B[0m\u001B[0;32mNone\u001B[0m\u001B[0;34m,\u001B[0m \u001B[0mmax_ev\u001B[0m\u001B[0;34m,\u001B[0m \u001B[0mtimeout\u001B[0m\u001B[0;34m)\u001B[0m\u001B[0;34m\u001B[0m\u001B[0;34m\u001B[0m\u001B[0m\n\u001B[0m\u001B[1;32m    559\u001B[0m             \u001B[0;32mexcept\u001B[0m \u001B[0mInterruptedError\u001B[0m\u001B[0;34m:\u001B[0m\u001B[0;34m\u001B[0m\u001B[0;34m\u001B[0m\u001B[0m\n\u001B[1;32m    560\u001B[0m                 \u001B[0;32mreturn\u001B[0m \u001B[0mready\u001B[0m\u001B[0;34m\u001B[0m\u001B[0;34m\u001B[0m\u001B[0m\n",
      "\u001B[0;31mKeyboardInterrupt\u001B[0m: "
     ]
    }
   ],
   "source": [
    "df_filtered.plot_widget(df.pickup_longitude,\n",
    "               df.pickup_latitude,\n",
    "               shape = 512,\n",
    "               limits = 'minmax',\n",
    "               f='log1p',\n",
    "               colormap='plasma')"
   ]
  },
  {
   "cell_type": "code",
   "execution_count": 60,
   "metadata": {
    "pycharm": {
     "name": "#%%\n"
    }
   },
   "outputs": [
    {
     "name": "stdout",
     "output_type": "stream",
     "text": [
      "[########################################] 100.00% elapsed time  :     9.69s =  0.2m =  0.0h\n",
      " "
     ]
    },
    {
     "data": {
      "text/plain": "<Figure size 1152x288 with 1 Axes>",
      "image/png": "[encoded data removed]"
     },
     "metadata": {
      "needs_background": "light"
     },
     "output_type": "display_data"
    }
   ],
   "source": [
    "#Get number of unique trips with certain number of passengers\n",
    "num_passengers = df_filtered.passenger_count.value_counts(progress=True)\n",
    "\n",
    "# Plot the result\n",
    "plt.figure(figsize=(16, 4))\n",
    "sns.barplot(x=num_passengers.index, y=np.log10(num_passengers.values))\n",
    "plt.xlabel('Number of passengers')\n",
    "plt.ylabel('Number of trips [dex]')\n",
    "plt.xticks(rotation='45')\n",
    "plt.show()"
   ]
  },
  {
   "cell_type": "code",
   "execution_count": 61,
   "outputs": [],
   "source": [
    "# Filterd based on the number of passengers\n",
    "df_filtered = df_filtered[(df_filtered.passenger_count>0) & (df_filtered.passenger_count<7)]"
   ],
   "metadata": {
    "collapsed": false,
    "pycharm": {
     "name": "#%%\n"
    }
   }
  },
  {
   "cell_type": "code",
   "execution_count": null,
   "outputs": [],
   "source": [],
   "metadata": {
    "collapsed": false,
    "pycharm": {
     "name": "#%%\n"
    }
   }
  }
 ],
 "metadata": {
  "kernelspec": {
   "display_name": "Python 3 (ipykernel)",
   "language": "python",
   "name": "python3"
  },
  "language_info": {
   "codemirror_mode": {
    "name": "ipython",
    "version": 3
   },
   "file_extension": ".py",
   "mimetype": "text/x-python",
   "name": "python",
   "nbconvert_exporter": "python",
   "pygments_lexer": "ipython3",
   "version": "3.7.9"
  }
 },
 "nbformat": 4,
 "nbformat_minor": 1
}